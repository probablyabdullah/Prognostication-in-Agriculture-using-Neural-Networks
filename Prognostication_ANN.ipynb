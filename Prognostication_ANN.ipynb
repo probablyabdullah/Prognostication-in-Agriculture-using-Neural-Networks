{
 "cells": [
  {
   "cell_type": "markdown",
   "metadata": {},
   "source": [
    "## **Prognostication using Neural Network in Agriculture**\n"
   ]
  },
  {
   "cell_type": "markdown",
   "metadata": {},
   "source": [
    "## Abstract\n"
   ]
  },
  {
   "attachments": {},
   "cell_type": "markdown",
   "metadata": {},
   "source": [
    "A forecasting study based on BigData methods through the example of pesticide sales. Predictions are based on linear regression and two neural networks frameworks, to obtain statistics and compare results."
   ]
  },
  {
   "cell_type": "markdown",
   "metadata": {},
   "source": [
    "## Introduction\n"
   ]
  },
  {
   "attachments": {},
   "cell_type": "markdown",
   "metadata": {},
   "source": [
    "Currently, an abundance of open agricultural statistical data exists worldwide. However, there are limited tools available for predicting and visualizing these processes. In this project, I will demonstrate how to access data from open sources, conduct initial data analysis, clean and transform the data, and perform correlation analysis.\n",
    "\n",
    "Additionally, I will explore two distinct mathematical approaches for forecasting based on linear regression. To achieve this, I will divide the DataSet into training and test sets, showcasing how to construct models using two different frameworks. Afterward, I will generate forecasts and assess the accuracy and suitability of the models obtained.\n",
    "\n",
    "Furthermore, the project will involve building and fitting two different Neural Networks. I'll explain the process of normalizing and inverse normalizing the data for this purpose. Finally, I'll compare all the results obtained throughout the project."
   ]
  },
  {
   "cell_type": "markdown",
   "metadata": {},
   "source": [
    "## Materials and methods\n"
   ]
  },
  {
   "attachments": {},
   "cell_type": "markdown",
   "metadata": {},
   "source": [
    "The basic methods of forecasting using Linear Regression and Neural Networks were used. This consists of three stages:\n",
    "* Download and preliminary analysis of data\n",
    "* Forecasting\n",
    "* Artificial Neural Networks\n",
    "\n",
    "The first stage downloads data and pre-prepares it for the analysis:\n",
    "* downloading data\n",
    "* changing the data types of columns\n",
    "* grouping data\n",
    "* DataSet transformation\n",
    "\n",
    "At the stage of forecasting, begins the building and fitting of models, as well as the automation of statistical information calculation, in particular:\n",
    "* hypothesis creation\n",
    "* splitting the DataSet into training and test sets\n",
    "* creating a linear model using sklearn\n",
    "* calculation of basic statistical indicators\n",
    "* creating a linear model using statsmodels\n",
    "\n",
    "At the stage of Artificial Neural Networks, begins the building and fitting of models based on Artificial Intelligence:\n",
    "* creating a linear model using Scikit-learn\n",
    "* creating a linear model using keras"
   ]
  },
  {
   "cell_type": "markdown",
   "metadata": {},
   "source": [
    "The statistical data was obtained from the https://ec.europa.eu/eurostat/databrowser/view/aact_eaa01/default/table?lang=en. Eurostat has a policy of encouraging free re-use of its data, both for non-commercial and commercial purposes.\n"
   ]
  },
  {
   "cell_type": "markdown",
   "metadata": {},
   "source": [
    "## Prerequisites\n",
    "* Python - basic level\n",
    "* [Pandas](https://pandas.pydata.org/?utm_medium=Exinfluencer&utm_source=Exinfluencer&utm_content=000026UJ&utm_term=10006555&utm_id=NA-SkillsNetwork-Channel-SkillsNetworkGuidedProjectsdatascienceinagricultureprognosticationusingbyneuralnetwork466-2022-01-01) - basic level\n",
    "* [SeaBorn](https://seaborn.pydata.org/?utm_medium=Exinfluencer&utm_source=Exinfluencer&utm_content=000026UJ&utm_term=10006555&utm_id=NA-SkillsNetwork-Channel-SkillsNetworkGuidedProjectsdatascienceinagricultureprognosticationusingbyneuralnetwork466-2022-01-01) - basic level\n",
    "* Statistics - basic level\n",
    "* [Scikit-learn](https://scikit-learn.org/stable/?utm_medium=Exinfluencer&utm_source=Exinfluencer&utm_content=000026UJ&utm_term=10006555&utm_id=NA-SkillsNetwork-Channel-SkillsNetworkGuidedProjectsdatascienceinagricultureprognosticationusingbyneuralnetwork466-2022-01-01) - basic level\n",
    "* [keras](https://keras.io/?utm_medium=Exinfluencer&utm_source=Exinfluencer&utm_content=000026UJ&utm_term=10006555&utm_id=NA-SkillsNetwork-Channel-SkillsNetworkGuidedProjectsdatascienceinagricultureprognosticationusingbyneuralnetwork466-2022-01-01) - basic level\n"
   ]
  },
  {
   "cell_type": "markdown",
   "metadata": {},
   "source": [
    "## Objectives\n"
   ]
  },
  {
   "cell_type": "markdown",
   "metadata": {},
   "source": [
    "* Download a DataSet from *.csv files\n",
    "* Automatically change data in the DataSet\n",
    "* Transform a table\n",
    "* Visualize data with pandas and seaborn\n",
    "* Make Linear forecast models\n",
    "* Build and fit Neural Networks\n"
   ]
  },
  {
   "cell_type": "markdown",
   "metadata": {},
   "source": [
    "## Install the required libraries \n"
   ]
  },
  {
   "attachments": {},
   "cell_type": "markdown",
   "metadata": {},
   "source": [
    "First installed additional libraries and upgrade existing ones.\n"
   ]
  },
  {
   "cell_type": "code",
   "execution_count": 1,
   "metadata": {},
   "outputs": [],
   "source": [
    "# conda install -c intel scikit-learn"
   ]
  },
  {
   "cell_type": "code",
   "execution_count": 2,
   "metadata": {},
   "outputs": [],
   "source": [
    "# conda install -c conda-forge pycountry"
   ]
  },
  {
   "cell_type": "code",
   "execution_count": 3,
   "metadata": {},
   "outputs": [
    {
     "name": "stdout",
     "output_type": "stream",
     "text": [
      "Collecting package metadata (current_repodata.json): done\n",
      "Solving environment: done\n",
      "\n",
      "\n",
      "==> WARNING: A newer version of conda exists. <==\n",
      "  current version: 23.3.1\n",
      "  latest version: 23.5.2\n",
      "\n",
      "Please update conda by running\n",
      "\n",
      "    $ conda update -n base -c conda-forge conda\n",
      "\n",
      "Or to minimize the number of packages updated during conda update use\n",
      "\n",
      "     conda install conda=23.5.2\n",
      "\n",
      "\n",
      "\n",
      "# All requested packages already installed.\n",
      "\n",
      "\n",
      "Note: you may need to restart the kernel to use updated packages.\n"
     ]
    }
   ],
   "source": [
    "conda install -c conda-forge tensorflow --yes"
   ]
  },
  {
   "cell_type": "markdown",
   "metadata": {},
   "source": [
    "## Download and preliminary analysis of data\n"
   ]
  },
  {
   "cell_type": "code",
   "execution_count": 4,
   "metadata": {},
   "outputs": [
    {
     "name": "stdout",
     "output_type": "stream",
     "text": [
      "Collecting package metadata (current_repodata.json): done\n",
      "Solving environment: done\n",
      "\n",
      "\n",
      "==> WARNING: A newer version of conda exists. <==\n",
      "  current version: 23.3.1\n",
      "  latest version: 23.5.2\n",
      "\n",
      "Please update conda by running\n",
      "\n",
      "    $ conda update -n base -c conda-forge conda\n",
      "\n",
      "Or to minimize the number of packages updated during conda update use\n",
      "\n",
      "     conda install conda=23.5.2\n",
      "\n",
      "\n",
      "\n",
      "# All requested packages already installed.\n",
      "\n",
      "\n",
      "Note: you may need to restart the kernel to use updated packages.\n"
     ]
    }
   ],
   "source": [
    "conda install -c conda-forge keras --yes"
   ]
  },
  {
   "cell_type": "markdown",
   "metadata": {},
   "source": [
    "### Downloading data\n"
   ]
  },
  {
   "cell_type": "code",
   "execution_count": 5,
   "metadata": {},
   "outputs": [],
   "source": [
    "import pandas as pd\n",
    "import numpy as np\n",
    "pd.options.mode.chained_assignment = None  # default='warn'"
   ]
  },
  {
   "attachments": {},
   "cell_type": "markdown",
   "metadata": {},
   "source": [
    "I downloaded the data file from the repository using the **[read_csv()](https://pandas.pydata.org/docs/reference/api/pandas.read_csv.html?utm_medium=Exinfluencer&utm_source=Exinfluencer&utm_content=000026UJ&utm_term=10006555&utm_id=NA-SkillsNetwork-Channel-SkillsNetworkGuidedProjectsdatascienceinagricultureprognosticationusingbyneuralnetwork466-2022-01-01)**.  https://ec.europa.eu/eurostat/databrowser/view/AEI_FM_SALPEST09__custom_1145078/default/table?lang=enhttps://ec.europa.eu/eurostat/databrowser/view/AEI_FM_SALPEST09__custom_1145078/default/table?lang=en\n"
   ]
  },
  {
   "cell_type": "code",
   "execution_count": 6,
   "metadata": {},
   "outputs": [
    {
     "data": {
      "text/html": [
       "<div>\n",
       "<style scoped>\n",
       "    .dataframe tbody tr th:only-of-type {\n",
       "        vertical-align: middle;\n",
       "    }\n",
       "\n",
       "    .dataframe tbody tr th {\n",
       "        vertical-align: top;\n",
       "    }\n",
       "\n",
       "    .dataframe thead th {\n",
       "        text-align: right;\n",
       "    }\n",
       "</style>\n",
       "<table border=\"1\" class=\"dataframe\">\n",
       "  <thead>\n",
       "    <tr style=\"text-align: right;\">\n",
       "      <th></th>\n",
       "      <th>DATAFLOW</th>\n",
       "      <th>LAST UPDATE</th>\n",
       "      <th>freq</th>\n",
       "      <th>pesticid</th>\n",
       "      <th>unit</th>\n",
       "      <th>geo</th>\n",
       "      <th>TIME_PERIOD</th>\n",
       "      <th>OBS_VALUE</th>\n",
       "      <th>OBS_FLAG</th>\n",
       "    </tr>\n",
       "  </thead>\n",
       "  <tbody>\n",
       "    <tr>\n",
       "      <th>0</th>\n",
       "      <td>ESTAT:AEI_FM_SALPEST09(1.0)</td>\n",
       "      <td>11/05/21 23:00:00</td>\n",
       "      <td>A</td>\n",
       "      <td>F</td>\n",
       "      <td>KG</td>\n",
       "      <td>AT</td>\n",
       "      <td>2011</td>\n",
       "      <td>1544218.0</td>\n",
       "      <td>NaN</td>\n",
       "    </tr>\n",
       "    <tr>\n",
       "      <th>1</th>\n",
       "      <td>ESTAT:AEI_FM_SALPEST09(1.0)</td>\n",
       "      <td>11/05/21 23:00:00</td>\n",
       "      <td>A</td>\n",
       "      <td>F</td>\n",
       "      <td>KG</td>\n",
       "      <td>AT</td>\n",
       "      <td>2012</td>\n",
       "      <td>1634371.0</td>\n",
       "      <td>NaN</td>\n",
       "    </tr>\n",
       "    <tr>\n",
       "      <th>2</th>\n",
       "      <td>ESTAT:AEI_FM_SALPEST09(1.0)</td>\n",
       "      <td>11/05/21 23:00:00</td>\n",
       "      <td>A</td>\n",
       "      <td>F</td>\n",
       "      <td>KG</td>\n",
       "      <td>AT</td>\n",
       "      <td>2013</td>\n",
       "      <td>1492799.0</td>\n",
       "      <td>NaN</td>\n",
       "    </tr>\n",
       "    <tr>\n",
       "      <th>3</th>\n",
       "      <td>ESTAT:AEI_FM_SALPEST09(1.0)</td>\n",
       "      <td>11/05/21 23:00:00</td>\n",
       "      <td>A</td>\n",
       "      <td>F</td>\n",
       "      <td>KG</td>\n",
       "      <td>AT</td>\n",
       "      <td>2014</td>\n",
       "      <td>1641055.0</td>\n",
       "      <td>NaN</td>\n",
       "    </tr>\n",
       "    <tr>\n",
       "      <th>4</th>\n",
       "      <td>ESTAT:AEI_FM_SALPEST09(1.0)</td>\n",
       "      <td>11/05/21 23:00:00</td>\n",
       "      <td>A</td>\n",
       "      <td>F</td>\n",
       "      <td>KG</td>\n",
       "      <td>AT</td>\n",
       "      <td>2015</td>\n",
       "      <td>2130973.0</td>\n",
       "      <td>NaN</td>\n",
       "    </tr>\n",
       "    <tr>\n",
       "      <th>...</th>\n",
       "      <td>...</td>\n",
       "      <td>...</td>\n",
       "      <td>...</td>\n",
       "      <td>...</td>\n",
       "      <td>...</td>\n",
       "      <td>...</td>\n",
       "      <td>...</td>\n",
       "      <td>...</td>\n",
       "      <td>...</td>\n",
       "    </tr>\n",
       "    <tr>\n",
       "      <th>1640</th>\n",
       "      <td>ESTAT:AEI_FM_SALPEST09(1.0)</td>\n",
       "      <td>11/05/21 23:00:00</td>\n",
       "      <td>A</td>\n",
       "      <td>ZR</td>\n",
       "      <td>KG</td>\n",
       "      <td>UK</td>\n",
       "      <td>2015</td>\n",
       "      <td>NaN</td>\n",
       "      <td>cd</td>\n",
       "    </tr>\n",
       "    <tr>\n",
       "      <th>1641</th>\n",
       "      <td>ESTAT:AEI_FM_SALPEST09(1.0)</td>\n",
       "      <td>11/05/21 23:00:00</td>\n",
       "      <td>A</td>\n",
       "      <td>ZR</td>\n",
       "      <td>KG</td>\n",
       "      <td>UK</td>\n",
       "      <td>2016</td>\n",
       "      <td>NaN</td>\n",
       "      <td>c</td>\n",
       "    </tr>\n",
       "    <tr>\n",
       "      <th>1642</th>\n",
       "      <td>ESTAT:AEI_FM_SALPEST09(1.0)</td>\n",
       "      <td>11/05/21 23:00:00</td>\n",
       "      <td>A</td>\n",
       "      <td>ZR</td>\n",
       "      <td>KG</td>\n",
       "      <td>UK</td>\n",
       "      <td>2017</td>\n",
       "      <td>270493.0</td>\n",
       "      <td>NaN</td>\n",
       "    </tr>\n",
       "    <tr>\n",
       "      <th>1643</th>\n",
       "      <td>ESTAT:AEI_FM_SALPEST09(1.0)</td>\n",
       "      <td>11/05/21 23:00:00</td>\n",
       "      <td>A</td>\n",
       "      <td>ZR</td>\n",
       "      <td>KG</td>\n",
       "      <td>UK</td>\n",
       "      <td>2018</td>\n",
       "      <td>NaN</td>\n",
       "      <td>c</td>\n",
       "    </tr>\n",
       "    <tr>\n",
       "      <th>1644</th>\n",
       "      <td>ESTAT:AEI_FM_SALPEST09(1.0)</td>\n",
       "      <td>11/05/21 23:00:00</td>\n",
       "      <td>A</td>\n",
       "      <td>ZR</td>\n",
       "      <td>KG</td>\n",
       "      <td>UK</td>\n",
       "      <td>2019</td>\n",
       "      <td>255061.0</td>\n",
       "      <td>NaN</td>\n",
       "    </tr>\n",
       "  </tbody>\n",
       "</table>\n",
       "<p>1645 rows × 9 columns</p>\n",
       "</div>"
      ],
      "text/plain": [
       "                         DATAFLOW        LAST UPDATE freq pesticid unit geo  \\\n",
       "0     ESTAT:AEI_FM_SALPEST09(1.0)  11/05/21 23:00:00    A        F   KG  AT   \n",
       "1     ESTAT:AEI_FM_SALPEST09(1.0)  11/05/21 23:00:00    A        F   KG  AT   \n",
       "2     ESTAT:AEI_FM_SALPEST09(1.0)  11/05/21 23:00:00    A        F   KG  AT   \n",
       "3     ESTAT:AEI_FM_SALPEST09(1.0)  11/05/21 23:00:00    A        F   KG  AT   \n",
       "4     ESTAT:AEI_FM_SALPEST09(1.0)  11/05/21 23:00:00    A        F   KG  AT   \n",
       "...                           ...                ...  ...      ...  ...  ..   \n",
       "1640  ESTAT:AEI_FM_SALPEST09(1.0)  11/05/21 23:00:00    A       ZR   KG  UK   \n",
       "1641  ESTAT:AEI_FM_SALPEST09(1.0)  11/05/21 23:00:00    A       ZR   KG  UK   \n",
       "1642  ESTAT:AEI_FM_SALPEST09(1.0)  11/05/21 23:00:00    A       ZR   KG  UK   \n",
       "1643  ESTAT:AEI_FM_SALPEST09(1.0)  11/05/21 23:00:00    A       ZR   KG  UK   \n",
       "1644  ESTAT:AEI_FM_SALPEST09(1.0)  11/05/21 23:00:00    A       ZR   KG  UK   \n",
       "\n",
       "      TIME_PERIOD  OBS_VALUE OBS_FLAG  \n",
       "0            2011  1544218.0      NaN  \n",
       "1            2012  1634371.0      NaN  \n",
       "2            2013  1492799.0      NaN  \n",
       "3            2014  1641055.0      NaN  \n",
       "4            2015  2130973.0      NaN  \n",
       "...           ...        ...      ...  \n",
       "1640         2015        NaN       cd  \n",
       "1641         2016        NaN        c  \n",
       "1642         2017   270493.0      NaN  \n",
       "1643         2018        NaN        c  \n",
       "1644         2019   255061.0      NaN  \n",
       "\n",
       "[1645 rows x 9 columns]"
      ]
     },
     "execution_count": 6,
     "metadata": {},
     "output_type": "execute_result"
    }
   ],
   "source": [
    "df = pd.read_csv('https://cf-courses-data.s3.us.cloud-object-storage.appdomain.cloud/data-science-in-agriculture-prognostication-using-by-neural-network/aei_fm_salpest09__custom_1145078_20210714_093842.sdmx.csv')\n",
    "df"
   ]
  },
  {
   "attachments": {},
   "cell_type": "markdown",
   "metadata": {},
   "source": [
    "The DataSet consists of 1645 rows and 9 columns. Studying the columns.\n"
   ]
  },
  {
   "cell_type": "code",
   "execution_count": 7,
   "metadata": {},
   "outputs": [
    {
     "data": {
      "text/plain": [
       "Index(['DATAFLOW', 'LAST UPDATE', 'freq', 'pesticid', 'unit', 'geo',\n",
       "       'TIME_PERIOD', 'OBS_VALUE', 'OBS_FLAG'],\n",
       "      dtype='object')"
      ]
     },
     "execution_count": 7,
     "metadata": {},
     "output_type": "execute_result"
    }
   ],
   "source": [
    "col = df.columns\n",
    "col"
   ]
  },
  {
   "attachments": {},
   "cell_type": "markdown",
   "metadata": {},
   "source": [
    "I will try to build a sales forecast of one pesticide type.\n",
    "Upon analyzing the table, I realized that not all columns were essential for our forecasting task, as some of them contained redundant data. To ensure accurate predictions, I solely utilized data from specific columns: 'pesticid', 'geo', 'TIME_PERIOD', and 'OBS_VALUE'.\n"
   ]
  },
  {
   "cell_type": "code",
   "execution_count": 8,
   "metadata": {},
   "outputs": [
    {
     "data": {
      "text/html": [
       "<div>\n",
       "<style scoped>\n",
       "    .dataframe tbody tr th:only-of-type {\n",
       "        vertical-align: middle;\n",
       "    }\n",
       "\n",
       "    .dataframe tbody tr th {\n",
       "        vertical-align: top;\n",
       "    }\n",
       "\n",
       "    .dataframe thead th {\n",
       "        text-align: right;\n",
       "    }\n",
       "</style>\n",
       "<table border=\"1\" class=\"dataframe\">\n",
       "  <thead>\n",
       "    <tr style=\"text-align: right;\">\n",
       "      <th></th>\n",
       "      <th>pesticid</th>\n",
       "      <th>geo</th>\n",
       "      <th>TIME_PERIOD</th>\n",
       "      <th>OBS_VALUE</th>\n",
       "    </tr>\n",
       "  </thead>\n",
       "  <tbody>\n",
       "    <tr>\n",
       "      <th>0</th>\n",
       "      <td>F</td>\n",
       "      <td>AT</td>\n",
       "      <td>2011</td>\n",
       "      <td>1544218.0</td>\n",
       "    </tr>\n",
       "    <tr>\n",
       "      <th>1</th>\n",
       "      <td>F</td>\n",
       "      <td>AT</td>\n",
       "      <td>2012</td>\n",
       "      <td>1634371.0</td>\n",
       "    </tr>\n",
       "    <tr>\n",
       "      <th>2</th>\n",
       "      <td>F</td>\n",
       "      <td>AT</td>\n",
       "      <td>2013</td>\n",
       "      <td>1492799.0</td>\n",
       "    </tr>\n",
       "    <tr>\n",
       "      <th>3</th>\n",
       "      <td>F</td>\n",
       "      <td>AT</td>\n",
       "      <td>2014</td>\n",
       "      <td>1641055.0</td>\n",
       "    </tr>\n",
       "    <tr>\n",
       "      <th>4</th>\n",
       "      <td>F</td>\n",
       "      <td>AT</td>\n",
       "      <td>2015</td>\n",
       "      <td>2130973.0</td>\n",
       "    </tr>\n",
       "    <tr>\n",
       "      <th>...</th>\n",
       "      <td>...</td>\n",
       "      <td>...</td>\n",
       "      <td>...</td>\n",
       "      <td>...</td>\n",
       "    </tr>\n",
       "    <tr>\n",
       "      <th>1640</th>\n",
       "      <td>ZR</td>\n",
       "      <td>UK</td>\n",
       "      <td>2015</td>\n",
       "      <td>NaN</td>\n",
       "    </tr>\n",
       "    <tr>\n",
       "      <th>1641</th>\n",
       "      <td>ZR</td>\n",
       "      <td>UK</td>\n",
       "      <td>2016</td>\n",
       "      <td>NaN</td>\n",
       "    </tr>\n",
       "    <tr>\n",
       "      <th>1642</th>\n",
       "      <td>ZR</td>\n",
       "      <td>UK</td>\n",
       "      <td>2017</td>\n",
       "      <td>270493.0</td>\n",
       "    </tr>\n",
       "    <tr>\n",
       "      <th>1643</th>\n",
       "      <td>ZR</td>\n",
       "      <td>UK</td>\n",
       "      <td>2018</td>\n",
       "      <td>NaN</td>\n",
       "    </tr>\n",
       "    <tr>\n",
       "      <th>1644</th>\n",
       "      <td>ZR</td>\n",
       "      <td>UK</td>\n",
       "      <td>2019</td>\n",
       "      <td>255061.0</td>\n",
       "    </tr>\n",
       "  </tbody>\n",
       "</table>\n",
       "<p>1645 rows × 4 columns</p>\n",
       "</div>"
      ],
      "text/plain": [
       "     pesticid geo  TIME_PERIOD  OBS_VALUE\n",
       "0           F  AT         2011  1544218.0\n",
       "1           F  AT         2012  1634371.0\n",
       "2           F  AT         2013  1492799.0\n",
       "3           F  AT         2014  1641055.0\n",
       "4           F  AT         2015  2130973.0\n",
       "...       ...  ..          ...        ...\n",
       "1640       ZR  UK         2015        NaN\n",
       "1641       ZR  UK         2016        NaN\n",
       "1642       ZR  UK         2017   270493.0\n",
       "1643       ZR  UK         2018        NaN\n",
       "1644       ZR  UK         2019   255061.0\n",
       "\n",
       "[1645 rows x 4 columns]"
      ]
     },
     "execution_count": 8,
     "metadata": {},
     "output_type": "execute_result"
    }
   ],
   "source": [
    "col = ['pesticid', 'geo', 'TIME_PERIOD', 'OBS_VALUE']\n",
    "df = df[col]\n",
    "df"
   ]
  },
  {
   "cell_type": "markdown",
   "metadata": {},
   "source": [
    "In the project, I studied this DataSet. It consisted of 1645 rows and 4 columns. These columns contained the following data:\n",
    "\n",
    "- 'pesticid': pesticide code\n",
    "- 'geo': country code\n",
    "- 'TIME_PERIOD': year\n",
    "- 'OBS_VALUE': volume of sales in KG\n",
    "\n",
    "To ensure Python correctly recognized the data types, I used the `pandas.info` function for this task. This helped verify that the data was appropriately interpreted, allowing us to proceed with accurate data analysis."
   ]
  },
  {
   "cell_type": "code",
   "execution_count": 9,
   "metadata": {},
   "outputs": [
    {
     "name": "stdout",
     "output_type": "stream",
     "text": [
      "<class 'pandas.core.frame.DataFrame'>\n",
      "RangeIndex: 1645 entries, 0 to 1644\n",
      "Data columns (total 4 columns):\n",
      " #   Column       Non-Null Count  Dtype  \n",
      "---  ------       --------------  -----  \n",
      " 0   pesticid     1645 non-null   object \n",
      " 1   geo          1645 non-null   object \n",
      " 2   TIME_PERIOD  1645 non-null   int64  \n",
      " 3   OBS_VALUE    1527 non-null   float64\n",
      "dtypes: float64(1), int64(1), object(2)\n",
      "memory usage: 51.5+ KB\n"
     ]
    }
   ],
   "source": [
    "df.info()"
   ]
  },
  {
   "attachments": {},
   "cell_type": "markdown",
   "metadata": {},
   "source": [
    "As I reviewed the dataset, I noticed that the last two columns were correctly recognized as having data types 'int64' and 'float64', respectively. However, the first two columns were identified as 'objects'. To gain a deeper understanding of these columns, I investigated them further and analyzed their contents."
   ]
  },
  {
   "cell_type": "markdown",
   "metadata": {},
   "source": [
    "### Сhanging the data and data types of columns\n"
   ]
  },
  {
   "attachments": {},
   "cell_type": "markdown",
   "metadata": {},
   "source": [
    "As I observed, the columns 'pesticid' and 'geo' contained many repetitions and were suitable for categorical fields in pandas. To handle this, I converted these columns to categorical data using `pandas.astype`.\n",
    "\n",
    "For an overview of the transformed data, I used `pandas.describe` to obtain a summary of descriptive statistics and better understand the categorical aspects of these columns."
   ]
  },
  {
   "cell_type": "code",
   "execution_count": 10,
   "metadata": {},
   "outputs": [
    {
     "data": {
      "text/html": [
       "<div>\n",
       "<style scoped>\n",
       "    .dataframe tbody tr th:only-of-type {\n",
       "        vertical-align: middle;\n",
       "    }\n",
       "\n",
       "    .dataframe tbody tr th {\n",
       "        vertical-align: top;\n",
       "    }\n",
       "\n",
       "    .dataframe thead th {\n",
       "        text-align: right;\n",
       "    }\n",
       "</style>\n",
       "<table border=\"1\" class=\"dataframe\">\n",
       "  <thead>\n",
       "    <tr style=\"text-align: right;\">\n",
       "      <th></th>\n",
       "      <th>pesticid</th>\n",
       "      <th>geo</th>\n",
       "    </tr>\n",
       "  </thead>\n",
       "  <tbody>\n",
       "    <tr>\n",
       "      <th>count</th>\n",
       "      <td>1645</td>\n",
       "      <td>1645</td>\n",
       "    </tr>\n",
       "    <tr>\n",
       "      <th>unique</th>\n",
       "      <td>6</td>\n",
       "      <td>32</td>\n",
       "    </tr>\n",
       "    <tr>\n",
       "      <th>top</th>\n",
       "      <td>F</td>\n",
       "      <td>AT</td>\n",
       "    </tr>\n",
       "    <tr>\n",
       "      <th>freq</th>\n",
       "      <td>277</td>\n",
       "      <td>54</td>\n",
       "    </tr>\n",
       "  </tbody>\n",
       "</table>\n",
       "</div>"
      ],
      "text/plain": [
       "       pesticid   geo\n",
       "count      1645  1645\n",
       "unique        6    32\n",
       "top           F    AT\n",
       "freq        277    54"
      ]
     },
     "execution_count": 10,
     "metadata": {},
     "output_type": "execute_result"
    }
   ],
   "source": [
    "col = ['pesticid', 'geo',]\n",
    "df.loc[:, col] = df[col].astype('category')\n",
    "df[col].describe()"
   ]
  },
  {
   "attachments": {},
   "cell_type": "markdown",
   "metadata": {},
   "source": [
    "As I observed, the DataSet contained information about 32 countries and 6 pesticides.\n",
    "\n",
    "To display the categories within the 'pesticid' and 'geo' columns, I used either `pandas.Series.cat.categories` or `pandas.unique` methods. These functions allowed me to view the unique values present in the respective columns, providing valuable insights into the available categories."
   ]
  },
  {
   "cell_type": "code",
   "execution_count": 11,
   "metadata": {},
   "outputs": [
    {
     "data": {
      "text/plain": [
       "Index(['F', 'H', 'I', 'M', 'PGR', 'ZR'], dtype='object')"
      ]
     },
     "execution_count": 11,
     "metadata": {},
     "output_type": "execute_result"
    }
   ],
   "source": [
    "df['pesticid'].cat.categories"
   ]
  },
  {
   "cell_type": "code",
   "execution_count": 12,
   "metadata": {},
   "outputs": [
    {
     "data": {
      "text/plain": [
       "['AT', 'BE', 'BG', 'CH', 'CY', ..., 'SE', 'SI', 'SK', 'TR', 'UK']\n",
       "Length: 32\n",
       "Categories (32, object): ['AT', 'BE', 'BG', 'CH', ..., 'SI', 'SK', 'TR', 'UK']"
      ]
     },
     "execution_count": 12,
     "metadata": {},
     "output_type": "execute_result"
    }
   ],
   "source": [
    "df['geo'].unique()"
   ]
  },
  {
   "attachments": {},
   "cell_type": "markdown",
   "metadata": {},
   "source": [
    "It is worth noting that there were some nonstandard country codes used for the United Kingdom and Greece in the DataSet.\n",
    "\n",
    "To address this issue, I made the necessary changes by replacing 'UK' with 'GB' for the United Kingdom and 'EL' with 'GR' for Greece. To accomplish this, I utilized the `pandas.Series.cat.add_categories()` method to add the new category names and ensure the country codes were standardized and accurate. This step ensured consistency and improved the quality of the data for further analysis and forecasting."
   ]
  },
  {
   "cell_type": "code",
   "execution_count": 13,
   "metadata": {},
   "outputs": [],
   "source": [
    "df.loc[:, 'geo'] = df['geo'].cat.add_categories([\"GB\", \"GR\"])"
   ]
  },
  {
   "attachments": {},
   "cell_type": "markdown",
   "metadata": {},
   "source": [
    "After adding the new category names for the United Kingdom and Greece, the next step was to change the values using a binary mask.\n",
    "\n",
    "To achieve this, I created a binary mask that targeted the rows with the nonstandard country codes 'UK' and 'EL'. With the binary mask in place, I applied the necessary changes to the 'geo' column, replacing 'UK' with 'GB' and 'EL' with 'GR'.\n",
    "\n",
    "By using the binary mask, I could efficiently and accurately update the country codes in the DataSet, ensuring consistency and accuracy throughout the data. This process was an essential step in preparing the data for the subsequent forecasting and analysis stages of the project."
   ]
  },
  {
   "cell_type": "code",
   "execution_count": 14,
   "metadata": {},
   "outputs": [
    {
     "data": {
      "text/html": [
       "<div>\n",
       "<style scoped>\n",
       "    .dataframe tbody tr th:only-of-type {\n",
       "        vertical-align: middle;\n",
       "    }\n",
       "\n",
       "    .dataframe tbody tr th {\n",
       "        vertical-align: top;\n",
       "    }\n",
       "\n",
       "    .dataframe thead th {\n",
       "        text-align: right;\n",
       "    }\n",
       "</style>\n",
       "<table border=\"1\" class=\"dataframe\">\n",
       "  <thead>\n",
       "    <tr style=\"text-align: right;\">\n",
       "      <th></th>\n",
       "      <th>pesticid</th>\n",
       "      <th>geo</th>\n",
       "      <th>TIME_PERIOD</th>\n",
       "      <th>OBS_VALUE</th>\n",
       "    </tr>\n",
       "  </thead>\n",
       "  <tbody>\n",
       "    <tr>\n",
       "      <th>0</th>\n",
       "      <td>F</td>\n",
       "      <td>AT</td>\n",
       "      <td>2011</td>\n",
       "      <td>1544218.0</td>\n",
       "    </tr>\n",
       "    <tr>\n",
       "      <th>1</th>\n",
       "      <td>F</td>\n",
       "      <td>AT</td>\n",
       "      <td>2012</td>\n",
       "      <td>1634371.0</td>\n",
       "    </tr>\n",
       "    <tr>\n",
       "      <th>2</th>\n",
       "      <td>F</td>\n",
       "      <td>AT</td>\n",
       "      <td>2013</td>\n",
       "      <td>1492799.0</td>\n",
       "    </tr>\n",
       "    <tr>\n",
       "      <th>3</th>\n",
       "      <td>F</td>\n",
       "      <td>AT</td>\n",
       "      <td>2014</td>\n",
       "      <td>1641055.0</td>\n",
       "    </tr>\n",
       "    <tr>\n",
       "      <th>4</th>\n",
       "      <td>F</td>\n",
       "      <td>AT</td>\n",
       "      <td>2015</td>\n",
       "      <td>2130973.0</td>\n",
       "    </tr>\n",
       "    <tr>\n",
       "      <th>...</th>\n",
       "      <td>...</td>\n",
       "      <td>...</td>\n",
       "      <td>...</td>\n",
       "      <td>...</td>\n",
       "    </tr>\n",
       "    <tr>\n",
       "      <th>1640</th>\n",
       "      <td>ZR</td>\n",
       "      <td>GB</td>\n",
       "      <td>2015</td>\n",
       "      <td>NaN</td>\n",
       "    </tr>\n",
       "    <tr>\n",
       "      <th>1641</th>\n",
       "      <td>ZR</td>\n",
       "      <td>GB</td>\n",
       "      <td>2016</td>\n",
       "      <td>NaN</td>\n",
       "    </tr>\n",
       "    <tr>\n",
       "      <th>1642</th>\n",
       "      <td>ZR</td>\n",
       "      <td>GB</td>\n",
       "      <td>2017</td>\n",
       "      <td>270493.0</td>\n",
       "    </tr>\n",
       "    <tr>\n",
       "      <th>1643</th>\n",
       "      <td>ZR</td>\n",
       "      <td>GB</td>\n",
       "      <td>2018</td>\n",
       "      <td>NaN</td>\n",
       "    </tr>\n",
       "    <tr>\n",
       "      <th>1644</th>\n",
       "      <td>ZR</td>\n",
       "      <td>GB</td>\n",
       "      <td>2019</td>\n",
       "      <td>255061.0</td>\n",
       "    </tr>\n",
       "  </tbody>\n",
       "</table>\n",
       "<p>1645 rows × 4 columns</p>\n",
       "</div>"
      ],
      "text/plain": [
       "     pesticid geo  TIME_PERIOD  OBS_VALUE\n",
       "0           F  AT         2011  1544218.0\n",
       "1           F  AT         2012  1634371.0\n",
       "2           F  AT         2013  1492799.0\n",
       "3           F  AT         2014  1641055.0\n",
       "4           F  AT         2015  2130973.0\n",
       "...       ...  ..          ...        ...\n",
       "1640       ZR  GB         2015        NaN\n",
       "1641       ZR  GB         2016        NaN\n",
       "1642       ZR  GB         2017   270493.0\n",
       "1643       ZR  GB         2018        NaN\n",
       "1644       ZR  GB         2019   255061.0\n",
       "\n",
       "[1645 rows x 4 columns]"
      ]
     },
     "execution_count": 14,
     "metadata": {},
     "output_type": "execute_result"
    }
   ],
   "source": [
    "pd.options.mode.chained_assignment = None  # swich of the warnings\n",
    "mask = df['geo'] == 'UK' # Binary mask\n",
    "df.loc[mask, 'geo'] = \"GB\" # Change the values for the mask\n",
    "df"
   ]
  },
  {
   "cell_type": "code",
   "execution_count": 15,
   "metadata": {},
   "outputs": [
    {
     "data": {
      "text/html": [
       "<div>\n",
       "<style scoped>\n",
       "    .dataframe tbody tr th:only-of-type {\n",
       "        vertical-align: middle;\n",
       "    }\n",
       "\n",
       "    .dataframe tbody tr th {\n",
       "        vertical-align: top;\n",
       "    }\n",
       "\n",
       "    .dataframe thead th {\n",
       "        text-align: right;\n",
       "    }\n",
       "</style>\n",
       "<table border=\"1\" class=\"dataframe\">\n",
       "  <thead>\n",
       "    <tr style=\"text-align: right;\">\n",
       "      <th></th>\n",
       "      <th>pesticid</th>\n",
       "      <th>geo</th>\n",
       "      <th>TIME_PERIOD</th>\n",
       "      <th>OBS_VALUE</th>\n",
       "    </tr>\n",
       "  </thead>\n",
       "  <tbody>\n",
       "    <tr>\n",
       "      <th>0</th>\n",
       "      <td>F</td>\n",
       "      <td>AT</td>\n",
       "      <td>2011</td>\n",
       "      <td>1544218.0</td>\n",
       "    </tr>\n",
       "    <tr>\n",
       "      <th>1</th>\n",
       "      <td>F</td>\n",
       "      <td>AT</td>\n",
       "      <td>2012</td>\n",
       "      <td>1634371.0</td>\n",
       "    </tr>\n",
       "    <tr>\n",
       "      <th>2</th>\n",
       "      <td>F</td>\n",
       "      <td>AT</td>\n",
       "      <td>2013</td>\n",
       "      <td>1492799.0</td>\n",
       "    </tr>\n",
       "    <tr>\n",
       "      <th>3</th>\n",
       "      <td>F</td>\n",
       "      <td>AT</td>\n",
       "      <td>2014</td>\n",
       "      <td>1641055.0</td>\n",
       "    </tr>\n",
       "    <tr>\n",
       "      <th>4</th>\n",
       "      <td>F</td>\n",
       "      <td>AT</td>\n",
       "      <td>2015</td>\n",
       "      <td>2130973.0</td>\n",
       "    </tr>\n",
       "    <tr>\n",
       "      <th>...</th>\n",
       "      <td>...</td>\n",
       "      <td>...</td>\n",
       "      <td>...</td>\n",
       "      <td>...</td>\n",
       "    </tr>\n",
       "    <tr>\n",
       "      <th>1640</th>\n",
       "      <td>ZR</td>\n",
       "      <td>GB</td>\n",
       "      <td>2015</td>\n",
       "      <td>NaN</td>\n",
       "    </tr>\n",
       "    <tr>\n",
       "      <th>1641</th>\n",
       "      <td>ZR</td>\n",
       "      <td>GB</td>\n",
       "      <td>2016</td>\n",
       "      <td>NaN</td>\n",
       "    </tr>\n",
       "    <tr>\n",
       "      <th>1642</th>\n",
       "      <td>ZR</td>\n",
       "      <td>GB</td>\n",
       "      <td>2017</td>\n",
       "      <td>270493.0</td>\n",
       "    </tr>\n",
       "    <tr>\n",
       "      <th>1643</th>\n",
       "      <td>ZR</td>\n",
       "      <td>GB</td>\n",
       "      <td>2018</td>\n",
       "      <td>NaN</td>\n",
       "    </tr>\n",
       "    <tr>\n",
       "      <th>1644</th>\n",
       "      <td>ZR</td>\n",
       "      <td>GB</td>\n",
       "      <td>2019</td>\n",
       "      <td>255061.0</td>\n",
       "    </tr>\n",
       "  </tbody>\n",
       "</table>\n",
       "<p>1645 rows × 4 columns</p>\n",
       "</div>"
      ],
      "text/plain": [
       "     pesticid geo  TIME_PERIOD  OBS_VALUE\n",
       "0           F  AT         2011  1544218.0\n",
       "1           F  AT         2012  1634371.0\n",
       "2           F  AT         2013  1492799.0\n",
       "3           F  AT         2014  1641055.0\n",
       "4           F  AT         2015  2130973.0\n",
       "...       ...  ..          ...        ...\n",
       "1640       ZR  GB         2015        NaN\n",
       "1641       ZR  GB         2016        NaN\n",
       "1642       ZR  GB         2017   270493.0\n",
       "1643       ZR  GB         2018        NaN\n",
       "1644       ZR  GB         2019   255061.0\n",
       "\n",
       "[1645 rows x 4 columns]"
      ]
     },
     "execution_count": 15,
     "metadata": {},
     "output_type": "execute_result"
    }
   ],
   "source": [
    "mask = df['geo'] == 'EL'\n",
    "df.loc[mask, 'geo'] = \"GR\"\n",
    "df"
   ]
  },
  {
   "attachments": {},
   "cell_type": "markdown",
   "metadata": {},
   "source": [
    "After making the necessary changes to the 'geo' column using the binary mask, the next step was to add a new column that contains the full names of countries.\n",
    "\n",
    "To accomplish this, I utilized the **pycountry** library, which provides a convenient way to access country information, including their full names. By leveraging this library, I could easily map the country codes in the 'geo' column to their corresponding full names.\n",
    "\n",
    "By adding the new column with the full names of countries, I enriched the DataSet with more descriptive information, making it more informative and suitable for further analysis and forecasting. The **pycountry** library was instrumental in achieving this task efficiently and accurately."
   ]
  },
  {
   "cell_type": "code",
   "execution_count": 16,
   "metadata": {
    "tags": []
   },
   "outputs": [
    {
     "name": "stdout",
     "output_type": "stream",
     "text": [
      "Requirement already satisfied: pycountry in /home/jupyterlab/conda/envs/python/lib/python3.7/site-packages (22.3.5)\n",
      "Requirement already satisfied: setuptools in /home/jupyterlab/conda/envs/python/lib/python3.7/site-packages (from pycountry) (67.7.2)\n",
      "Note: you may need to restart the kernel to use updated packages.\n"
     ]
    }
   ],
   "source": [
    "pip install pycountry"
   ]
  },
  {
   "cell_type": "code",
   "execution_count": 17,
   "metadata": {},
   "outputs": [],
   "source": [
    "import pycountry"
   ]
  },
  {
   "attachments": {},
   "cell_type": "markdown",
   "metadata": {},
   "source": [
    "pycountry provides the ISO databases for different standards.\n",
    "\n",
    "In order to add a column with full country names, I created a function that will get a counry code and return a full name.\n",
    "Then it should be the function `pandas.DataFrame.apply()` for calculating new column values.\n"
   ]
  },
  {
   "cell_type": "code",
   "execution_count": 18,
   "metadata": {},
   "outputs": [
    {
     "name": "stdout",
     "output_type": "stream",
     "text": [
      "Country codes ['AW', 'AF', 'AO', 'AI', 'AX', 'AL', 'AD', 'AE', 'AR', 'AM', 'AS', 'AQ', 'TF', 'AG', 'AU', 'AT', 'AZ', 'BI', 'BE', 'BJ', 'BQ', 'BF', 'BD', 'BG', 'BH', 'BS', 'BA', 'BL', 'BY', 'BZ', 'BM', 'BO', 'BR', 'BB', 'BN', 'BT', 'BV', 'BW', 'CF', 'CA', 'CC', 'CH', 'CL', 'CN', 'CI', 'CM', 'CD', 'CG', 'CK', 'CO', 'KM', 'CV', 'CR', 'CU', 'CW', 'CX', 'KY', 'CY', 'CZ', 'DE', 'DJ', 'DM', 'DK', 'DO', 'DZ', 'EC', 'EG', 'ER', 'EH', 'ES', 'EE', 'ET', 'FI', 'FJ', 'FK', 'FR', 'FO', 'FM', 'GA', 'GB', 'GE', 'GG', 'GH', 'GI', 'GN', 'GP', 'GM', 'GW', 'GQ', 'GR', 'GD', 'GL', 'GT', 'GF', 'GU', 'GY', 'HK', 'HM', 'HN', 'HR', 'HT', 'HU', 'ID', 'IM', 'IN', 'IO', 'IE', 'IR', 'IQ', 'IS', 'IL', 'IT', 'JM', 'JE', 'JO', 'JP', 'KZ', 'KE', 'KG', 'KH', 'KI', 'KN', 'KR', 'KW', 'LA', 'LB', 'LR', 'LY', 'LC', 'LI', 'LK', 'LS', 'LT', 'LU', 'LV', 'MO', 'MF', 'MA', 'MC', 'MD', 'MG', 'MV', 'MX', 'MH', 'MK', 'ML', 'MT', 'MM', 'ME', 'MN', 'MP', 'MZ', 'MR', 'MS', 'MQ', 'MU', 'MW', 'MY', 'YT', 'NA', 'NC', 'NE', 'NF', 'NG', 'NI', 'NU', 'NL', 'NO', 'NP', 'NR', 'NZ', 'OM', 'PK', 'PA', 'PN', 'PE', 'PH', 'PW', 'PG', 'PL', 'PR', 'KP', 'PT', 'PY', 'PS', 'PF', 'QA', 'RE', 'RO', 'RU', 'RW', 'SA', 'SD', 'SN', 'SG', 'GS', 'SH', 'SJ', 'SB', 'SL', 'SV', 'SM', 'SO', 'PM', 'RS', 'SS', 'ST', 'SR', 'SK', 'SI', 'SE', 'SZ', 'SX', 'SC', 'SY', 'TC', 'TD', 'TG', 'TH', 'TJ', 'TK', 'TM', 'TL', 'TO', 'TT', 'TN', 'TR', 'TV', 'TW', 'TZ', 'UG', 'UA', 'UM', 'UY', 'US', 'UZ', 'VA', 'VC', 'VE', 'VG', 'VI', 'VN', 'VU', 'WF', 'WS', 'YE', 'ZA', 'ZM', 'ZW']\n"
     ]
    },
    {
     "data": {
      "text/html": [
       "<div>\n",
       "<style scoped>\n",
       "    .dataframe tbody tr th:only-of-type {\n",
       "        vertical-align: middle;\n",
       "    }\n",
       "\n",
       "    .dataframe tbody tr th {\n",
       "        vertical-align: top;\n",
       "    }\n",
       "\n",
       "    .dataframe thead th {\n",
       "        text-align: right;\n",
       "    }\n",
       "</style>\n",
       "<table border=\"1\" class=\"dataframe\">\n",
       "  <thead>\n",
       "    <tr style=\"text-align: right;\">\n",
       "      <th></th>\n",
       "      <th>pesticid</th>\n",
       "      <th>geo</th>\n",
       "      <th>TIME_PERIOD</th>\n",
       "      <th>OBS_VALUE</th>\n",
       "      <th>country_name</th>\n",
       "    </tr>\n",
       "  </thead>\n",
       "  <tbody>\n",
       "    <tr>\n",
       "      <th>0</th>\n",
       "      <td>F</td>\n",
       "      <td>AT</td>\n",
       "      <td>2011</td>\n",
       "      <td>1544218.0</td>\n",
       "      <td>Austria</td>\n",
       "    </tr>\n",
       "    <tr>\n",
       "      <th>1</th>\n",
       "      <td>F</td>\n",
       "      <td>AT</td>\n",
       "      <td>2012</td>\n",
       "      <td>1634371.0</td>\n",
       "      <td>Austria</td>\n",
       "    </tr>\n",
       "    <tr>\n",
       "      <th>2</th>\n",
       "      <td>F</td>\n",
       "      <td>AT</td>\n",
       "      <td>2013</td>\n",
       "      <td>1492799.0</td>\n",
       "      <td>Austria</td>\n",
       "    </tr>\n",
       "    <tr>\n",
       "      <th>3</th>\n",
       "      <td>F</td>\n",
       "      <td>AT</td>\n",
       "      <td>2014</td>\n",
       "      <td>1641055.0</td>\n",
       "      <td>Austria</td>\n",
       "    </tr>\n",
       "    <tr>\n",
       "      <th>4</th>\n",
       "      <td>F</td>\n",
       "      <td>AT</td>\n",
       "      <td>2015</td>\n",
       "      <td>2130973.0</td>\n",
       "      <td>Austria</td>\n",
       "    </tr>\n",
       "    <tr>\n",
       "      <th>...</th>\n",
       "      <td>...</td>\n",
       "      <td>...</td>\n",
       "      <td>...</td>\n",
       "      <td>...</td>\n",
       "      <td>...</td>\n",
       "    </tr>\n",
       "    <tr>\n",
       "      <th>1640</th>\n",
       "      <td>ZR</td>\n",
       "      <td>GB</td>\n",
       "      <td>2015</td>\n",
       "      <td>NaN</td>\n",
       "      <td>United Kingdom</td>\n",
       "    </tr>\n",
       "    <tr>\n",
       "      <th>1641</th>\n",
       "      <td>ZR</td>\n",
       "      <td>GB</td>\n",
       "      <td>2016</td>\n",
       "      <td>NaN</td>\n",
       "      <td>United Kingdom</td>\n",
       "    </tr>\n",
       "    <tr>\n",
       "      <th>1642</th>\n",
       "      <td>ZR</td>\n",
       "      <td>GB</td>\n",
       "      <td>2017</td>\n",
       "      <td>270493.0</td>\n",
       "      <td>United Kingdom</td>\n",
       "    </tr>\n",
       "    <tr>\n",
       "      <th>1643</th>\n",
       "      <td>ZR</td>\n",
       "      <td>GB</td>\n",
       "      <td>2018</td>\n",
       "      <td>NaN</td>\n",
       "      <td>United Kingdom</td>\n",
       "    </tr>\n",
       "    <tr>\n",
       "      <th>1644</th>\n",
       "      <td>ZR</td>\n",
       "      <td>GB</td>\n",
       "      <td>2019</td>\n",
       "      <td>255061.0</td>\n",
       "      <td>United Kingdom</td>\n",
       "    </tr>\n",
       "  </tbody>\n",
       "</table>\n",
       "<p>1645 rows × 5 columns</p>\n",
       "</div>"
      ],
      "text/plain": [
       "     pesticid geo  TIME_PERIOD  OBS_VALUE    country_name\n",
       "0           F  AT         2011  1544218.0         Austria\n",
       "1           F  AT         2012  1634371.0         Austria\n",
       "2           F  AT         2013  1492799.0         Austria\n",
       "3           F  AT         2014  1641055.0         Austria\n",
       "4           F  AT         2015  2130973.0         Austria\n",
       "...       ...  ..          ...        ...             ...\n",
       "1640       ZR  GB         2015        NaN  United Kingdom\n",
       "1641       ZR  GB         2016        NaN  United Kingdom\n",
       "1642       ZR  GB         2017   270493.0  United Kingdom\n",
       "1643       ZR  GB         2018        NaN  United Kingdom\n",
       "1644       ZR  GB         2019   255061.0  United Kingdom\n",
       "\n",
       "[1645 rows x 5 columns]"
      ]
     },
     "execution_count": 18,
     "metadata": {},
     "output_type": "execute_result"
    }
   ],
   "source": [
    "list_alpha_2 = [i.alpha_2 for i in list(pycountry.countries)]  # create a list of country codes\n",
    "print(\"Country codes\", list_alpha_2)\n",
    "\n",
    "def country_flag(df):\n",
    "    '''\n",
    "    df: Series\n",
    "    return: Full name of counry or \"Invalide code\"\n",
    "    '''\n",
    "    if (df['geo'] in list_alpha_2):\n",
    "        return pycountry.countries.get(alpha_2=df['geo']).name\n",
    "    else:\n",
    "        print(df['geo'])\n",
    "        return 'Invalid Code'\n",
    "\n",
    "df['country_name']=df.apply(country_flag, axis = 1)\n",
    "df"
   ]
  },
  {
   "attachments": {},
   "cell_type": "markdown",
   "metadata": {},
   "source": [
    "To add a new column with pesticide names, I obtained the necessary information from the Eurostat database (https://ec.europa.eu/eurostat/data/database).\n",
    "\n",
    "I started by creating a dictionary where the keys represented the pesticide codes, and the corresponding values held the corresponding pesticide names. This dictionary served as a reference for mapping the pesticide codes to their respective names.\n",
    "\n",
    "After successfully creating the dictionary, I used it to map the pesticide codes in the 'pesticid' column to their corresponding names, and then stored the results in the new column of the DataSet. This step enriched the DataSet with descriptive pesticide names, making it more informative and conducive to further analysis and forecasting."
   ]
  },
  {
   "cell_type": "code",
   "execution_count": 19,
   "metadata": {},
   "outputs": [],
   "source": [
    "pes = {'F': 'Fungicides and bactericides',\n",
    "      'H': 'Herbicides, haulm destructors and moss killers',\n",
    "      'I': 'Insecticides and acaricides',\n",
    "      'M': 'Molluscicides',\n",
    "      'PGR': 'Plant growth regulators',\n",
    "      'ZR': 'Other plant protection products'}"
   ]
  },
  {
   "attachments": {},
   "cell_type": "markdown",
   "metadata": {},
   "source": [
    "I added a new column using mapping `pandas.Series.map()`\n"
   ]
  },
  {
   "cell_type": "code",
   "execution_count": 20,
   "metadata": {},
   "outputs": [
    {
     "data": {
      "text/html": [
       "<div>\n",
       "<style scoped>\n",
       "    .dataframe tbody tr th:only-of-type {\n",
       "        vertical-align: middle;\n",
       "    }\n",
       "\n",
       "    .dataframe tbody tr th {\n",
       "        vertical-align: top;\n",
       "    }\n",
       "\n",
       "    .dataframe thead th {\n",
       "        text-align: right;\n",
       "    }\n",
       "</style>\n",
       "<table border=\"1\" class=\"dataframe\">\n",
       "  <thead>\n",
       "    <tr style=\"text-align: right;\">\n",
       "      <th></th>\n",
       "      <th>pesticid</th>\n",
       "      <th>geo</th>\n",
       "      <th>TIME_PERIOD</th>\n",
       "      <th>OBS_VALUE</th>\n",
       "      <th>country_name</th>\n",
       "      <th>pesticid_name</th>\n",
       "    </tr>\n",
       "  </thead>\n",
       "  <tbody>\n",
       "    <tr>\n",
       "      <th>0</th>\n",
       "      <td>F</td>\n",
       "      <td>AT</td>\n",
       "      <td>2011</td>\n",
       "      <td>1544218.0</td>\n",
       "      <td>Austria</td>\n",
       "      <td>Fungicides and bactericides</td>\n",
       "    </tr>\n",
       "    <tr>\n",
       "      <th>1</th>\n",
       "      <td>F</td>\n",
       "      <td>AT</td>\n",
       "      <td>2012</td>\n",
       "      <td>1634371.0</td>\n",
       "      <td>Austria</td>\n",
       "      <td>Fungicides and bactericides</td>\n",
       "    </tr>\n",
       "    <tr>\n",
       "      <th>2</th>\n",
       "      <td>F</td>\n",
       "      <td>AT</td>\n",
       "      <td>2013</td>\n",
       "      <td>1492799.0</td>\n",
       "      <td>Austria</td>\n",
       "      <td>Fungicides and bactericides</td>\n",
       "    </tr>\n",
       "    <tr>\n",
       "      <th>3</th>\n",
       "      <td>F</td>\n",
       "      <td>AT</td>\n",
       "      <td>2014</td>\n",
       "      <td>1641055.0</td>\n",
       "      <td>Austria</td>\n",
       "      <td>Fungicides and bactericides</td>\n",
       "    </tr>\n",
       "    <tr>\n",
       "      <th>4</th>\n",
       "      <td>F</td>\n",
       "      <td>AT</td>\n",
       "      <td>2015</td>\n",
       "      <td>2130973.0</td>\n",
       "      <td>Austria</td>\n",
       "      <td>Fungicides and bactericides</td>\n",
       "    </tr>\n",
       "    <tr>\n",
       "      <th>...</th>\n",
       "      <td>...</td>\n",
       "      <td>...</td>\n",
       "      <td>...</td>\n",
       "      <td>...</td>\n",
       "      <td>...</td>\n",
       "      <td>...</td>\n",
       "    </tr>\n",
       "    <tr>\n",
       "      <th>1640</th>\n",
       "      <td>ZR</td>\n",
       "      <td>GB</td>\n",
       "      <td>2015</td>\n",
       "      <td>NaN</td>\n",
       "      <td>United Kingdom</td>\n",
       "      <td>Other plant protection products</td>\n",
       "    </tr>\n",
       "    <tr>\n",
       "      <th>1641</th>\n",
       "      <td>ZR</td>\n",
       "      <td>GB</td>\n",
       "      <td>2016</td>\n",
       "      <td>NaN</td>\n",
       "      <td>United Kingdom</td>\n",
       "      <td>Other plant protection products</td>\n",
       "    </tr>\n",
       "    <tr>\n",
       "      <th>1642</th>\n",
       "      <td>ZR</td>\n",
       "      <td>GB</td>\n",
       "      <td>2017</td>\n",
       "      <td>270493.0</td>\n",
       "      <td>United Kingdom</td>\n",
       "      <td>Other plant protection products</td>\n",
       "    </tr>\n",
       "    <tr>\n",
       "      <th>1643</th>\n",
       "      <td>ZR</td>\n",
       "      <td>GB</td>\n",
       "      <td>2018</td>\n",
       "      <td>NaN</td>\n",
       "      <td>United Kingdom</td>\n",
       "      <td>Other plant protection products</td>\n",
       "    </tr>\n",
       "    <tr>\n",
       "      <th>1644</th>\n",
       "      <td>ZR</td>\n",
       "      <td>GB</td>\n",
       "      <td>2019</td>\n",
       "      <td>255061.0</td>\n",
       "      <td>United Kingdom</td>\n",
       "      <td>Other plant protection products</td>\n",
       "    </tr>\n",
       "  </tbody>\n",
       "</table>\n",
       "<p>1645 rows × 6 columns</p>\n",
       "</div>"
      ],
      "text/plain": [
       "     pesticid geo  TIME_PERIOD  OBS_VALUE    country_name  \\\n",
       "0           F  AT         2011  1544218.0         Austria   \n",
       "1           F  AT         2012  1634371.0         Austria   \n",
       "2           F  AT         2013  1492799.0         Austria   \n",
       "3           F  AT         2014  1641055.0         Austria   \n",
       "4           F  AT         2015  2130973.0         Austria   \n",
       "...       ...  ..          ...        ...             ...   \n",
       "1640       ZR  GB         2015        NaN  United Kingdom   \n",
       "1641       ZR  GB         2016        NaN  United Kingdom   \n",
       "1642       ZR  GB         2017   270493.0  United Kingdom   \n",
       "1643       ZR  GB         2018        NaN  United Kingdom   \n",
       "1644       ZR  GB         2019   255061.0  United Kingdom   \n",
       "\n",
       "                        pesticid_name  \n",
       "0         Fungicides and bactericides  \n",
       "1         Fungicides and bactericides  \n",
       "2         Fungicides and bactericides  \n",
       "3         Fungicides and bactericides  \n",
       "4         Fungicides and bactericides  \n",
       "...                               ...  \n",
       "1640  Other plant protection products  \n",
       "1641  Other plant protection products  \n",
       "1642  Other plant protection products  \n",
       "1643  Other plant protection products  \n",
       "1644  Other plant protection products  \n",
       "\n",
       "[1645 rows x 6 columns]"
      ]
     },
     "execution_count": 20,
     "metadata": {},
     "output_type": "execute_result"
    }
   ],
   "source": [
    "df['pesticid_name'] = df['pesticid'].map(pes)\n",
    "df['pesticid_name'] = df['pesticid_name'].astype('category')\n",
    "df"
   ]
  },
  {
   "attachments": {},
   "cell_type": "markdown",
   "metadata": {},
   "source": [
    "As observed, I have successfully added two new columns to the DataSet. The first column contains the full names of the countries, and the second column includes the corresponding names of the pesticides."
   ]
  },
  {
   "cell_type": "markdown",
   "metadata": {},
   "source": [
    "### Grouping data\n"
   ]
  },
  {
   "cell_type": "markdown",
   "metadata": {},
   "source": [
    "I determined the number of records for each pesticide category in the DataSet using `pandas.Series.value_counts()`. This method provided me with the count of occurrences for each unique pesticide category.\n",
    "\n",
    "Next, I displayed the results in a table format by converting the count values into a DataFrame using `pandas.Series.to_frame()`. This allowed me to present the data in a tabular structure."
   ]
  },
  {
   "cell_type": "code",
   "execution_count": 21,
   "metadata": {},
   "outputs": [
    {
     "data": {
      "text/html": [
       "<div>\n",
       "<style scoped>\n",
       "    .dataframe tbody tr th:only-of-type {\n",
       "        vertical-align: middle;\n",
       "    }\n",
       "\n",
       "    .dataframe tbody tr th {\n",
       "        vertical-align: top;\n",
       "    }\n",
       "\n",
       "    .dataframe thead th {\n",
       "        text-align: right;\n",
       "    }\n",
       "</style>\n",
       "<table border=\"1\" class=\"dataframe\">\n",
       "  <thead>\n",
       "    <tr style=\"text-align: right;\">\n",
       "      <th></th>\n",
       "      <th>pesticid_name</th>\n",
       "    </tr>\n",
       "  </thead>\n",
       "  <tbody>\n",
       "    <tr>\n",
       "      <th>Fungicides and bactericides</th>\n",
       "      <td>277</td>\n",
       "    </tr>\n",
       "    <tr>\n",
       "      <th>Herbicides, haulm destructors and moss killers</th>\n",
       "      <td>277</td>\n",
       "    </tr>\n",
       "    <tr>\n",
       "      <th>Insecticides and acaricides</th>\n",
       "      <td>277</td>\n",
       "    </tr>\n",
       "    <tr>\n",
       "      <th>Plant growth regulators</th>\n",
       "      <td>273</td>\n",
       "    </tr>\n",
       "    <tr>\n",
       "      <th>Other plant protection products</th>\n",
       "      <td>272</td>\n",
       "    </tr>\n",
       "    <tr>\n",
       "      <th>Molluscicides</th>\n",
       "      <td>269</td>\n",
       "    </tr>\n",
       "  </tbody>\n",
       "</table>\n",
       "</div>"
      ],
      "text/plain": [
       "                                                pesticid_name\n",
       "Fungicides and bactericides                               277\n",
       "Herbicides, haulm destructors and moss killers            277\n",
       "Insecticides and acaricides                               277\n",
       "Plant growth regulators                                   273\n",
       "Other plant protection products                           272\n",
       "Molluscicides                                             269"
      ]
     },
     "execution_count": 21,
     "metadata": {},
     "output_type": "execute_result"
    }
   ],
   "source": [
    "df['pesticid_name'].value_counts().to_frame()"
   ]
  },
  {
   "attachments": {},
   "cell_type": "markdown",
   "metadata": {},
   "source": [
    "For the convenience of displaying float data, I specified a common output format for pandas DataFrame using `pandas.options.display.float_format`. These settings will be active throughout the pandas library session.\n"
   ]
  },
  {
   "cell_type": "code",
   "execution_count": 22,
   "metadata": {},
   "outputs": [
    {
     "data": {
      "text/html": [
       "<div>\n",
       "<style scoped>\n",
       "    .dataframe tbody tr th:only-of-type {\n",
       "        vertical-align: middle;\n",
       "    }\n",
       "\n",
       "    .dataframe tbody tr th {\n",
       "        vertical-align: top;\n",
       "    }\n",
       "\n",
       "    .dataframe thead th {\n",
       "        text-align: right;\n",
       "    }\n",
       "</style>\n",
       "<table border=\"1\" class=\"dataframe\">\n",
       "  <thead>\n",
       "    <tr style=\"text-align: right;\">\n",
       "      <th></th>\n",
       "      <th>OBS_VALUE</th>\n",
       "    </tr>\n",
       "    <tr>\n",
       "      <th>pesticid_name</th>\n",
       "      <th></th>\n",
       "    </tr>\n",
       "  </thead>\n",
       "  <tbody>\n",
       "    <tr>\n",
       "      <th>Fungicides and bactericides</th>\n",
       "      <td>1,524,159,525</td>\n",
       "    </tr>\n",
       "    <tr>\n",
       "      <th>Herbicides, haulm destructors and moss killers</th>\n",
       "      <td>1,214,404,016</td>\n",
       "    </tr>\n",
       "    <tr>\n",
       "      <th>Insecticides and acaricides</th>\n",
       "      <td>383,335,093</td>\n",
       "    </tr>\n",
       "    <tr>\n",
       "      <th>Other plant protection products</th>\n",
       "      <td>361,363,116</td>\n",
       "    </tr>\n",
       "    <tr>\n",
       "      <th>Plant growth regulators</th>\n",
       "      <td>125,821,810</td>\n",
       "    </tr>\n",
       "    <tr>\n",
       "      <th>Molluscicides</th>\n",
       "      <td>12,371,665</td>\n",
       "    </tr>\n",
       "  </tbody>\n",
       "</table>\n",
       "</div>"
      ],
      "text/plain": [
       "                                                   OBS_VALUE\n",
       "pesticid_name                                               \n",
       "Fungicides and bactericides                    1,524,159,525\n",
       "Herbicides, haulm destructors and moss killers 1,214,404,016\n",
       "Insecticides and acaricides                      383,335,093\n",
       "Other plant protection products                  361,363,116\n",
       "Plant growth regulators                          125,821,810\n",
       "Molluscicides                                     12,371,665"
      ]
     },
     "execution_count": 22,
     "metadata": {},
     "output_type": "execute_result"
    }
   ],
   "source": [
    "pd.options.display.float_format = '{:,.0f}'.format\n",
    "df.groupby('pesticid_name')['OBS_VALUE'].sum().sort_values(ascending=False).to_frame()"
   ]
  },
  {
   "attachments": {},
   "cell_type": "markdown",
   "metadata": {},
   "source": [
    "As I reviewed the data, I noticed that most of the sold pesticides in the DataSet belonged to the category \"Fungicides and bactericides.\" This finding highlighted the prominence of this specific pesticide category in the agricultural sales data. This insight was valuable for the further analysis and decision-making in the context of agricultural practices and forecasting."
   ]
  },
  {
   "cell_type": "markdown",
   "metadata": {},
   "source": [
    "### DataSet transformation\n"
   ]
  },
  {
   "attachments": {},
   "cell_type": "markdown",
   "metadata": {},
   "source": [
    "In an attempt to predict Fungicides and bactericides sales based on the sales of other pesticides, I proceeded with the following steps:\n",
    "\n",
    "1. First, I removed all NaN (missing) data from the DataSet using `pandas.DataFrame.dropna()` method. This ensured that we had a clean and complete dataset for analysis.\n",
    "\n",
    "2. Next, I transformed the DataSet using a pivot table with `pandas.DataFrame.pivot_table()` method. This transformation allowed me to reorganize the data and create a new table that aggregated the sales of different pesticides, including Fungicides and bactericides, based on specific criteria."
   ]
  },
  {
   "cell_type": "code",
   "execution_count": 23,
   "metadata": {},
   "outputs": [
    {
     "data": {
      "text/html": [
       "<div>\n",
       "<style scoped>\n",
       "    .dataframe tbody tr th:only-of-type {\n",
       "        vertical-align: middle;\n",
       "    }\n",
       "\n",
       "    .dataframe tbody tr th {\n",
       "        vertical-align: top;\n",
       "    }\n",
       "\n",
       "    .dataframe thead th {\n",
       "        text-align: right;\n",
       "    }\n",
       "</style>\n",
       "<table border=\"1\" class=\"dataframe\">\n",
       "  <thead>\n",
       "    <tr style=\"text-align: right;\">\n",
       "      <th></th>\n",
       "      <th>pesticid</th>\n",
       "      <th>geo</th>\n",
       "      <th>TIME_PERIOD</th>\n",
       "      <th>OBS_VALUE</th>\n",
       "      <th>country_name</th>\n",
       "      <th>pesticid_name</th>\n",
       "    </tr>\n",
       "  </thead>\n",
       "  <tbody>\n",
       "    <tr>\n",
       "      <th>0</th>\n",
       "      <td>F</td>\n",
       "      <td>AT</td>\n",
       "      <td>2011</td>\n",
       "      <td>1,544,218</td>\n",
       "      <td>Austria</td>\n",
       "      <td>Fungicides and bactericides</td>\n",
       "    </tr>\n",
       "    <tr>\n",
       "      <th>1</th>\n",
       "      <td>F</td>\n",
       "      <td>AT</td>\n",
       "      <td>2012</td>\n",
       "      <td>1,634,371</td>\n",
       "      <td>Austria</td>\n",
       "      <td>Fungicides and bactericides</td>\n",
       "    </tr>\n",
       "    <tr>\n",
       "      <th>2</th>\n",
       "      <td>F</td>\n",
       "      <td>AT</td>\n",
       "      <td>2013</td>\n",
       "      <td>1,492,799</td>\n",
       "      <td>Austria</td>\n",
       "      <td>Fungicides and bactericides</td>\n",
       "    </tr>\n",
       "    <tr>\n",
       "      <th>3</th>\n",
       "      <td>F</td>\n",
       "      <td>AT</td>\n",
       "      <td>2014</td>\n",
       "      <td>1,641,055</td>\n",
       "      <td>Austria</td>\n",
       "      <td>Fungicides and bactericides</td>\n",
       "    </tr>\n",
       "    <tr>\n",
       "      <th>4</th>\n",
       "      <td>F</td>\n",
       "      <td>AT</td>\n",
       "      <td>2015</td>\n",
       "      <td>2,130,973</td>\n",
       "      <td>Austria</td>\n",
       "      <td>Fungicides and bactericides</td>\n",
       "    </tr>\n",
       "    <tr>\n",
       "      <th>...</th>\n",
       "      <td>...</td>\n",
       "      <td>...</td>\n",
       "      <td>...</td>\n",
       "      <td>...</td>\n",
       "      <td>...</td>\n",
       "      <td>...</td>\n",
       "    </tr>\n",
       "    <tr>\n",
       "      <th>1640</th>\n",
       "      <td>ZR</td>\n",
       "      <td>GB</td>\n",
       "      <td>2015</td>\n",
       "      <td>NaN</td>\n",
       "      <td>United Kingdom</td>\n",
       "      <td>Other plant protection products</td>\n",
       "    </tr>\n",
       "    <tr>\n",
       "      <th>1641</th>\n",
       "      <td>ZR</td>\n",
       "      <td>GB</td>\n",
       "      <td>2016</td>\n",
       "      <td>NaN</td>\n",
       "      <td>United Kingdom</td>\n",
       "      <td>Other plant protection products</td>\n",
       "    </tr>\n",
       "    <tr>\n",
       "      <th>1642</th>\n",
       "      <td>ZR</td>\n",
       "      <td>GB</td>\n",
       "      <td>2017</td>\n",
       "      <td>270,493</td>\n",
       "      <td>United Kingdom</td>\n",
       "      <td>Other plant protection products</td>\n",
       "    </tr>\n",
       "    <tr>\n",
       "      <th>1643</th>\n",
       "      <td>ZR</td>\n",
       "      <td>GB</td>\n",
       "      <td>2018</td>\n",
       "      <td>NaN</td>\n",
       "      <td>United Kingdom</td>\n",
       "      <td>Other plant protection products</td>\n",
       "    </tr>\n",
       "    <tr>\n",
       "      <th>1644</th>\n",
       "      <td>ZR</td>\n",
       "      <td>GB</td>\n",
       "      <td>2019</td>\n",
       "      <td>255,061</td>\n",
       "      <td>United Kingdom</td>\n",
       "      <td>Other plant protection products</td>\n",
       "    </tr>\n",
       "  </tbody>\n",
       "</table>\n",
       "<p>1645 rows × 6 columns</p>\n",
       "</div>"
      ],
      "text/plain": [
       "     pesticid geo  TIME_PERIOD  OBS_VALUE    country_name  \\\n",
       "0           F  AT         2011  1,544,218         Austria   \n",
       "1           F  AT         2012  1,634,371         Austria   \n",
       "2           F  AT         2013  1,492,799         Austria   \n",
       "3           F  AT         2014  1,641,055         Austria   \n",
       "4           F  AT         2015  2,130,973         Austria   \n",
       "...       ...  ..          ...        ...             ...   \n",
       "1640       ZR  GB         2015        NaN  United Kingdom   \n",
       "1641       ZR  GB         2016        NaN  United Kingdom   \n",
       "1642       ZR  GB         2017    270,493  United Kingdom   \n",
       "1643       ZR  GB         2018        NaN  United Kingdom   \n",
       "1644       ZR  GB         2019    255,061  United Kingdom   \n",
       "\n",
       "                        pesticid_name  \n",
       "0         Fungicides and bactericides  \n",
       "1         Fungicides and bactericides  \n",
       "2         Fungicides and bactericides  \n",
       "3         Fungicides and bactericides  \n",
       "4         Fungicides and bactericides  \n",
       "...                               ...  \n",
       "1640  Other plant protection products  \n",
       "1641  Other plant protection products  \n",
       "1642  Other plant protection products  \n",
       "1643  Other plant protection products  \n",
       "1644  Other plant protection products  \n",
       "\n",
       "[1645 rows x 6 columns]"
      ]
     },
     "execution_count": 23,
     "metadata": {},
     "output_type": "execute_result"
    }
   ],
   "source": [
    "df"
   ]
  },
  {
   "cell_type": "code",
   "execution_count": 24,
   "metadata": {},
   "outputs": [
    {
     "data": {
      "text/html": [
       "<div>\n",
       "<style scoped>\n",
       "    .dataframe tbody tr th:only-of-type {\n",
       "        vertical-align: middle;\n",
       "    }\n",
       "\n",
       "    .dataframe tbody tr th {\n",
       "        vertical-align: top;\n",
       "    }\n",
       "\n",
       "    .dataframe thead th {\n",
       "        text-align: right;\n",
       "    }\n",
       "</style>\n",
       "<table border=\"1\" class=\"dataframe\">\n",
       "  <thead>\n",
       "    <tr style=\"text-align: right;\">\n",
       "      <th></th>\n",
       "      <th>pesticid</th>\n",
       "      <th>geo</th>\n",
       "      <th>TIME_PERIOD</th>\n",
       "      <th>OBS_VALUE</th>\n",
       "      <th>country_name</th>\n",
       "      <th>pesticid_name</th>\n",
       "    </tr>\n",
       "  </thead>\n",
       "  <tbody>\n",
       "    <tr>\n",
       "      <th>0</th>\n",
       "      <td>F</td>\n",
       "      <td>AT</td>\n",
       "      <td>2011</td>\n",
       "      <td>1,544,218</td>\n",
       "      <td>Austria</td>\n",
       "      <td>Fungicides and bactericides</td>\n",
       "    </tr>\n",
       "    <tr>\n",
       "      <th>1</th>\n",
       "      <td>F</td>\n",
       "      <td>AT</td>\n",
       "      <td>2012</td>\n",
       "      <td>1,634,371</td>\n",
       "      <td>Austria</td>\n",
       "      <td>Fungicides and bactericides</td>\n",
       "    </tr>\n",
       "    <tr>\n",
       "      <th>2</th>\n",
       "      <td>F</td>\n",
       "      <td>AT</td>\n",
       "      <td>2013</td>\n",
       "      <td>1,492,799</td>\n",
       "      <td>Austria</td>\n",
       "      <td>Fungicides and bactericides</td>\n",
       "    </tr>\n",
       "    <tr>\n",
       "      <th>3</th>\n",
       "      <td>F</td>\n",
       "      <td>AT</td>\n",
       "      <td>2014</td>\n",
       "      <td>1,641,055</td>\n",
       "      <td>Austria</td>\n",
       "      <td>Fungicides and bactericides</td>\n",
       "    </tr>\n",
       "    <tr>\n",
       "      <th>4</th>\n",
       "      <td>F</td>\n",
       "      <td>AT</td>\n",
       "      <td>2015</td>\n",
       "      <td>2,130,973</td>\n",
       "      <td>Austria</td>\n",
       "      <td>Fungicides and bactericides</td>\n",
       "    </tr>\n",
       "    <tr>\n",
       "      <th>...</th>\n",
       "      <td>...</td>\n",
       "      <td>...</td>\n",
       "      <td>...</td>\n",
       "      <td>...</td>\n",
       "      <td>...</td>\n",
       "      <td>...</td>\n",
       "    </tr>\n",
       "    <tr>\n",
       "      <th>1635</th>\n",
       "      <td>ZR</td>\n",
       "      <td>TR</td>\n",
       "      <td>2019</td>\n",
       "      <td>11,393,214</td>\n",
       "      <td>Turkey</td>\n",
       "      <td>Other plant protection products</td>\n",
       "    </tr>\n",
       "    <tr>\n",
       "      <th>1636</th>\n",
       "      <td>ZR</td>\n",
       "      <td>GB</td>\n",
       "      <td>2011</td>\n",
       "      <td>17,914</td>\n",
       "      <td>United Kingdom</td>\n",
       "      <td>Other plant protection products</td>\n",
       "    </tr>\n",
       "    <tr>\n",
       "      <th>1637</th>\n",
       "      <td>ZR</td>\n",
       "      <td>GB</td>\n",
       "      <td>2012</td>\n",
       "      <td>10,805</td>\n",
       "      <td>United Kingdom</td>\n",
       "      <td>Other plant protection products</td>\n",
       "    </tr>\n",
       "    <tr>\n",
       "      <th>1642</th>\n",
       "      <td>ZR</td>\n",
       "      <td>GB</td>\n",
       "      <td>2017</td>\n",
       "      <td>270,493</td>\n",
       "      <td>United Kingdom</td>\n",
       "      <td>Other plant protection products</td>\n",
       "    </tr>\n",
       "    <tr>\n",
       "      <th>1644</th>\n",
       "      <td>ZR</td>\n",
       "      <td>GB</td>\n",
       "      <td>2019</td>\n",
       "      <td>255,061</td>\n",
       "      <td>United Kingdom</td>\n",
       "      <td>Other plant protection products</td>\n",
       "    </tr>\n",
       "  </tbody>\n",
       "</table>\n",
       "<p>1527 rows × 6 columns</p>\n",
       "</div>"
      ],
      "text/plain": [
       "     pesticid geo  TIME_PERIOD  OBS_VALUE    country_name  \\\n",
       "0           F  AT         2011  1,544,218         Austria   \n",
       "1           F  AT         2012  1,634,371         Austria   \n",
       "2           F  AT         2013  1,492,799         Austria   \n",
       "3           F  AT         2014  1,641,055         Austria   \n",
       "4           F  AT         2015  2,130,973         Austria   \n",
       "...       ...  ..          ...        ...             ...   \n",
       "1635       ZR  TR         2019 11,393,214          Turkey   \n",
       "1636       ZR  GB         2011     17,914  United Kingdom   \n",
       "1637       ZR  GB         2012     10,805  United Kingdom   \n",
       "1642       ZR  GB         2017    270,493  United Kingdom   \n",
       "1644       ZR  GB         2019    255,061  United Kingdom   \n",
       "\n",
       "                        pesticid_name  \n",
       "0         Fungicides and bactericides  \n",
       "1         Fungicides and bactericides  \n",
       "2         Fungicides and bactericides  \n",
       "3         Fungicides and bactericides  \n",
       "4         Fungicides and bactericides  \n",
       "...                               ...  \n",
       "1635  Other plant protection products  \n",
       "1636  Other plant protection products  \n",
       "1637  Other plant protection products  \n",
       "1642  Other plant protection products  \n",
       "1644  Other plant protection products  \n",
       "\n",
       "[1527 rows x 6 columns]"
      ]
     },
     "execution_count": 24,
     "metadata": {},
     "output_type": "execute_result"
    }
   ],
   "source": [
    "df = df.dropna()\n",
    "df"
   ]
  },
  {
   "cell_type": "code",
   "execution_count": 25,
   "metadata": {},
   "outputs": [
    {
     "data": {
      "text/html": [
       "<div>\n",
       "<style scoped>\n",
       "    .dataframe tbody tr th:only-of-type {\n",
       "        vertical-align: middle;\n",
       "    }\n",
       "\n",
       "    .dataframe tbody tr th {\n",
       "        vertical-align: top;\n",
       "    }\n",
       "\n",
       "    .dataframe thead th {\n",
       "        text-align: right;\n",
       "    }\n",
       "</style>\n",
       "<table border=\"1\" class=\"dataframe\">\n",
       "  <thead>\n",
       "    <tr style=\"text-align: right;\">\n",
       "      <th></th>\n",
       "      <th>pesticid_name</th>\n",
       "      <th>Fungicides and bactericides</th>\n",
       "      <th>Herbicides, haulm destructors and moss killers</th>\n",
       "      <th>Insecticides and acaricides</th>\n",
       "      <th>Molluscicides</th>\n",
       "      <th>Plant growth regulators</th>\n",
       "      <th>Other plant protection products</th>\n",
       "    </tr>\n",
       "    <tr>\n",
       "      <th>country_name</th>\n",
       "      <th>TIME_PERIOD</th>\n",
       "      <th></th>\n",
       "      <th></th>\n",
       "      <th></th>\n",
       "      <th></th>\n",
       "      <th></th>\n",
       "      <th></th>\n",
       "    </tr>\n",
       "  </thead>\n",
       "  <tbody>\n",
       "    <tr>\n",
       "      <th rowspan=\"5\" valign=\"top\">Austria</th>\n",
       "      <th>2011</th>\n",
       "      <td>1544218</td>\n",
       "      <td>1505163</td>\n",
       "      <td>247982</td>\n",
       "      <td>33428</td>\n",
       "      <td>59369</td>\n",
       "      <td>58114</td>\n",
       "    </tr>\n",
       "    <tr>\n",
       "      <th>2012</th>\n",
       "      <td>1634371</td>\n",
       "      <td>1544519</td>\n",
       "      <td>244079</td>\n",
       "      <td>23653</td>\n",
       "      <td>67373</td>\n",
       "      <td>43028</td>\n",
       "    </tr>\n",
       "    <tr>\n",
       "      <th>2013</th>\n",
       "      <td>1492799</td>\n",
       "      <td>1227017</td>\n",
       "      <td>238252</td>\n",
       "      <td>13471</td>\n",
       "      <td>45386</td>\n",
       "      <td>80517</td>\n",
       "    </tr>\n",
       "    <tr>\n",
       "      <th>2014</th>\n",
       "      <td>1641055</td>\n",
       "      <td>1375815</td>\n",
       "      <td>240298</td>\n",
       "      <td>16180</td>\n",
       "      <td>53530</td>\n",
       "      <td>46345</td>\n",
       "    </tr>\n",
       "    <tr>\n",
       "      <th>2015</th>\n",
       "      <td>2130973</td>\n",
       "      <td>1317219</td>\n",
       "      <td>195649</td>\n",
       "      <td>21214</td>\n",
       "      <td>68722</td>\n",
       "      <td>43840</td>\n",
       "    </tr>\n",
       "    <tr>\n",
       "      <th>...</th>\n",
       "      <th>...</th>\n",
       "      <td>...</td>\n",
       "      <td>...</td>\n",
       "      <td>...</td>\n",
       "      <td>...</td>\n",
       "      <td>...</td>\n",
       "      <td>...</td>\n",
       "    </tr>\n",
       "    <tr>\n",
       "      <th rowspan=\"5\" valign=\"top\">United Kingdom</th>\n",
       "      <th>2015</th>\n",
       "      <td>6032359</td>\n",
       "      <td>11463648</td>\n",
       "      <td>657938</td>\n",
       "      <td>0</td>\n",
       "      <td>3171290</td>\n",
       "      <td>0</td>\n",
       "    </tr>\n",
       "    <tr>\n",
       "      <th>2016</th>\n",
       "      <td>5330003</td>\n",
       "      <td>9810278</td>\n",
       "      <td>347876</td>\n",
       "      <td>0</td>\n",
       "      <td>0</td>\n",
       "      <td>0</td>\n",
       "    </tr>\n",
       "    <tr>\n",
       "      <th>2017</th>\n",
       "      <td>5484053</td>\n",
       "      <td>9681731</td>\n",
       "      <td>433843</td>\n",
       "      <td>0</td>\n",
       "      <td>0</td>\n",
       "      <td>270493</td>\n",
       "    </tr>\n",
       "    <tr>\n",
       "      <th>2018</th>\n",
       "      <td>4492460</td>\n",
       "      <td>10891852</td>\n",
       "      <td>131984</td>\n",
       "      <td>0</td>\n",
       "      <td>0</td>\n",
       "      <td>0</td>\n",
       "    </tr>\n",
       "    <tr>\n",
       "      <th>2019</th>\n",
       "      <td>6056984</td>\n",
       "      <td>9890402</td>\n",
       "      <td>226423</td>\n",
       "      <td>0</td>\n",
       "      <td>0</td>\n",
       "      <td>255061</td>\n",
       "    </tr>\n",
       "  </tbody>\n",
       "</table>\n",
       "<p>288 rows × 6 columns</p>\n",
       "</div>"
      ],
      "text/plain": [
       "pesticid_name               Fungicides and bactericides  \\\n",
       "country_name   TIME_PERIOD                                \n",
       "Austria        2011                             1544218   \n",
       "               2012                             1634371   \n",
       "               2013                             1492799   \n",
       "               2014                             1641055   \n",
       "               2015                             2130973   \n",
       "...                                                 ...   \n",
       "United Kingdom 2015                             6032359   \n",
       "               2016                             5330003   \n",
       "               2017                             5484053   \n",
       "               2018                             4492460   \n",
       "               2019                             6056984   \n",
       "\n",
       "pesticid_name               Herbicides, haulm destructors and moss killers  \\\n",
       "country_name   TIME_PERIOD                                                   \n",
       "Austria        2011                                                1505163   \n",
       "               2012                                                1544519   \n",
       "               2013                                                1227017   \n",
       "               2014                                                1375815   \n",
       "               2015                                                1317219   \n",
       "...                                                                    ...   \n",
       "United Kingdom 2015                                               11463648   \n",
       "               2016                                                9810278   \n",
       "               2017                                                9681731   \n",
       "               2018                                               10891852   \n",
       "               2019                                                9890402   \n",
       "\n",
       "pesticid_name               Insecticides and acaricides  Molluscicides  \\\n",
       "country_name   TIME_PERIOD                                               \n",
       "Austria        2011                              247982          33428   \n",
       "               2012                              244079          23653   \n",
       "               2013                              238252          13471   \n",
       "               2014                              240298          16180   \n",
       "               2015                              195649          21214   \n",
       "...                                                 ...            ...   \n",
       "United Kingdom 2015                              657938              0   \n",
       "               2016                              347876              0   \n",
       "               2017                              433843              0   \n",
       "               2018                              131984              0   \n",
       "               2019                              226423              0   \n",
       "\n",
       "pesticid_name               Plant growth regulators  \\\n",
       "country_name   TIME_PERIOD                            \n",
       "Austria        2011                           59369   \n",
       "               2012                           67373   \n",
       "               2013                           45386   \n",
       "               2014                           53530   \n",
       "               2015                           68722   \n",
       "...                                             ...   \n",
       "United Kingdom 2015                         3171290   \n",
       "               2016                               0   \n",
       "               2017                               0   \n",
       "               2018                               0   \n",
       "               2019                               0   \n",
       "\n",
       "pesticid_name               Other plant protection products  \n",
       "country_name   TIME_PERIOD                                   \n",
       "Austria        2011                                   58114  \n",
       "               2012                                   43028  \n",
       "               2013                                   80517  \n",
       "               2014                                   46345  \n",
       "               2015                                   43840  \n",
       "...                                                     ...  \n",
       "United Kingdom 2015                                       0  \n",
       "               2016                                       0  \n",
       "               2017                                  270493  \n",
       "               2018                                       0  \n",
       "               2019                                  255061  \n",
       "\n",
       "[288 rows x 6 columns]"
      ]
     },
     "execution_count": 25,
     "metadata": {},
     "output_type": "execute_result"
    }
   ],
   "source": [
    "p_df = df.pivot_table(values='OBS_VALUE', index= [ 'country_name', 'TIME_PERIOD',], columns=['pesticid_name'], aggfunc=np.sum, margins=False, dropna=False, fill_value=0)\n",
    "p_df"
   ]
  },
  {
   "attachments": {},
   "cell_type": "markdown",
   "metadata": {},
   "source": [
    "After creating the new DataSet for forecasting, I visualized the data using the `pandas.DataFrame.plot()` method. I noted that pandas encapsulates the matplotlib library and inherits the `plot()` function. Therefore, to display the plot, I imported the matplotlib library and applied the `matplotlib.pyplot.show()` function."
   ]
  },
  {
   "cell_type": "code",
   "execution_count": 26,
   "metadata": {},
   "outputs": [
    {
     "data": {
      "image/png": "[encoded data removed]",
      "text/plain": [
       "<Figure size 640x480 with 1 Axes>"
      ]
     },
     "metadata": {},
     "output_type": "display_data"
    }
   ],
   "source": [
    "p_df.plot()\n",
    "import matplotlib.pyplot as plt\n",
    "plt.xticks(rotation=45)\n",
    "plt.show()"
   ]
  },
  {
   "cell_type": "markdown",
   "metadata": {},
   "source": [
    "## Forecasting\n"
   ]
  },
  {
   "cell_type": "markdown",
   "metadata": {},
   "source": [
    "### Hypothesis creation\n"
   ]
  },
  {
   "attachments": {},
   "cell_type": "markdown",
   "metadata": {},
   "source": [
    "Before making a forecast, I first determined the target (output) field for which the forecast will be built. In this case, the target is Fungicides and bactericides sales. \n",
    "\n",
    "Next, I created a hypothesis that proposes the sales of Fungicides and bactericides depend on the sales of other pesticides.\n",
    "\n",
    "To check this hypothesis, I conducted a correlation analysis using `pandas.DataFrame.corr()`. This method allowed me to explore the relationships between the sales of different pesticide categories and identify any potential correlations with Fungicides and bactericides sales."
   ]
  },
  {
   "cell_type": "code",
   "execution_count": 27,
   "metadata": {},
   "outputs": [
    {
     "data": {
      "text/html": [
       "<div>\n",
       "<style scoped>\n",
       "    .dataframe tbody tr th:only-of-type {\n",
       "        vertical-align: middle;\n",
       "    }\n",
       "\n",
       "    .dataframe tbody tr th {\n",
       "        vertical-align: top;\n",
       "    }\n",
       "\n",
       "    .dataframe thead th {\n",
       "        text-align: right;\n",
       "    }\n",
       "</style>\n",
       "<table border=\"1\" class=\"dataframe\">\n",
       "  <thead>\n",
       "    <tr style=\"text-align: right;\">\n",
       "      <th>pesticid_name</th>\n",
       "      <th>Fungicides and bactericides</th>\n",
       "      <th>Herbicides, haulm destructors and moss killers</th>\n",
       "      <th>Insecticides and acaricides</th>\n",
       "      <th>Molluscicides</th>\n",
       "      <th>Plant growth regulators</th>\n",
       "      <th>Other plant protection products</th>\n",
       "    </tr>\n",
       "    <tr>\n",
       "      <th>pesticid_name</th>\n",
       "      <th></th>\n",
       "      <th></th>\n",
       "      <th></th>\n",
       "      <th></th>\n",
       "      <th></th>\n",
       "      <th></th>\n",
       "    </tr>\n",
       "  </thead>\n",
       "  <tbody>\n",
       "    <tr>\n",
       "      <th>Fungicides and bactericides</th>\n",
       "      <td>1.00</td>\n",
       "      <td>0.76</td>\n",
       "      <td>0.54</td>\n",
       "      <td>0.58</td>\n",
       "      <td>0.43</td>\n",
       "      <td>0.81</td>\n",
       "    </tr>\n",
       "    <tr>\n",
       "      <th>Herbicides, haulm destructors and moss killers</th>\n",
       "      <td>0.76</td>\n",
       "      <td>1.00</td>\n",
       "      <td>0.60</td>\n",
       "      <td>0.79</td>\n",
       "      <td>0.81</td>\n",
       "      <td>0.37</td>\n",
       "    </tr>\n",
       "    <tr>\n",
       "      <th>Insecticides and acaricides</th>\n",
       "      <td>0.54</td>\n",
       "      <td>0.60</td>\n",
       "      <td>1.00</td>\n",
       "      <td>0.42</td>\n",
       "      <td>0.65</td>\n",
       "      <td>0.40</td>\n",
       "    </tr>\n",
       "    <tr>\n",
       "      <th>Molluscicides</th>\n",
       "      <td>0.58</td>\n",
       "      <td>0.79</td>\n",
       "      <td>0.42</td>\n",
       "      <td>1.00</td>\n",
       "      <td>0.69</td>\n",
       "      <td>0.23</td>\n",
       "    </tr>\n",
       "    <tr>\n",
       "      <th>Plant growth regulators</th>\n",
       "      <td>0.43</td>\n",
       "      <td>0.81</td>\n",
       "      <td>0.65</td>\n",
       "      <td>0.69</td>\n",
       "      <td>1.00</td>\n",
       "      <td>0.06</td>\n",
       "    </tr>\n",
       "    <tr>\n",
       "      <th>Other plant protection products</th>\n",
       "      <td>0.81</td>\n",
       "      <td>0.37</td>\n",
       "      <td>0.40</td>\n",
       "      <td>0.23</td>\n",
       "      <td>0.06</td>\n",
       "      <td>1.00</td>\n",
       "    </tr>\n",
       "  </tbody>\n",
       "</table>\n",
       "</div>"
      ],
      "text/plain": [
       "pesticid_name                                   Fungicides and bactericides  \\\n",
       "pesticid_name                                                                 \n",
       "Fungicides and bactericides                                            1.00   \n",
       "Herbicides, haulm destructors and moss killers                         0.76   \n",
       "Insecticides and acaricides                                            0.54   \n",
       "Molluscicides                                                          0.58   \n",
       "Plant growth regulators                                                0.43   \n",
       "Other plant protection products                                        0.81   \n",
       "\n",
       "pesticid_name                                   Herbicides, haulm destructors and moss killers  \\\n",
       "pesticid_name                                                                                    \n",
       "Fungicides and bactericides                                                               0.76   \n",
       "Herbicides, haulm destructors and moss killers                                            1.00   \n",
       "Insecticides and acaricides                                                               0.60   \n",
       "Molluscicides                                                                             0.79   \n",
       "Plant growth regulators                                                                   0.81   \n",
       "Other plant protection products                                                           0.37   \n",
       "\n",
       "pesticid_name                                   Insecticides and acaricides  \\\n",
       "pesticid_name                                                                 \n",
       "Fungicides and bactericides                                            0.54   \n",
       "Herbicides, haulm destructors and moss killers                         0.60   \n",
       "Insecticides and acaricides                                            1.00   \n",
       "Molluscicides                                                          0.42   \n",
       "Plant growth regulators                                                0.65   \n",
       "Other plant protection products                                        0.40   \n",
       "\n",
       "pesticid_name                                   Molluscicides  \\\n",
       "pesticid_name                                                   \n",
       "Fungicides and bactericides                              0.58   \n",
       "Herbicides, haulm destructors and moss killers           0.79   \n",
       "Insecticides and acaricides                              0.42   \n",
       "Molluscicides                                            1.00   \n",
       "Plant growth regulators                                  0.69   \n",
       "Other plant protection products                          0.23   \n",
       "\n",
       "pesticid_name                                   Plant growth regulators  \\\n",
       "pesticid_name                                                             \n",
       "Fungicides and bactericides                                        0.43   \n",
       "Herbicides, haulm destructors and moss killers                     0.81   \n",
       "Insecticides and acaricides                                        0.65   \n",
       "Molluscicides                                                      0.69   \n",
       "Plant growth regulators                                            1.00   \n",
       "Other plant protection products                                    0.06   \n",
       "\n",
       "pesticid_name                                   Other plant protection products  \n",
       "pesticid_name                                                                    \n",
       "Fungicides and bactericides                                                0.81  \n",
       "Herbicides, haulm destructors and moss killers                             0.37  \n",
       "Insecticides and acaricides                                                0.40  \n",
       "Molluscicides                                                              0.23  \n",
       "Plant growth regulators                                                    0.06  \n",
       "Other plant protection products                                            1.00  "
      ]
     },
     "execution_count": 27,
     "metadata": {},
     "output_type": "execute_result"
    }
   ],
   "source": [
    "pd.options.display.float_format = '{:,.2f}'.format\n",
    "p_df.corr()"
   ]
  },
  {
   "attachments": {},
   "cell_type": "markdown",
   "metadata": {},
   "source": [
    "During the correlation analysis, I found that each cell in the correlation matrix represented the correlation coefficient between two columns. As expected, the diagonal elements were all equal to one since they represented the correlation between a column and itself.\n",
    "\n",
    "When focusing on the Fungicides and bactericides column (or row) in the correlation matrix, I observed correlation coefficients ranging from 0.43 to 0.81. These values indicated that there were nonlinear dependencies between Fungicides and bactericides sales and the sales of other pesticides.\n",
    "\n",
    "To initiate the modeling process, I decided to start by testing linear models. The accuracy of these linear models will be compared with the accuracy of nonlinear models."
   ]
  },
  {
   "cell_type": "markdown",
   "metadata": {},
   "source": [
    "### Splitting the DataSet into training and test sets\n"
   ]
  },
  {
   "attachments": {},
   "cell_type": "markdown",
   "metadata": {},
   "source": [
    "For model fitting and testing, I divided the DataSet into a training and a test set. This division was essential to evaluate the model's performance on unseen data, ensuring its generalizability.\n",
    "\n",
    "To achieve the split, I utilized `sklearn.model_selection.train_test_split()` function, a versatile tool that allowed me to create the training and test sets with ease.\n",
    "\n",
    "By setting the test_size parameter to 0.3, I allocated 30% of the DataSet for the test set, while the remaining 70% was assigned to the training set. This partitioning provided sufficient data for training the model while still maintaining a substantial portion for evaluating its performance.\n"
   ]
  },
  {
   "cell_type": "code",
   "execution_count": 37,
   "metadata": {},
   "outputs": [],
   "source": [
    "proportion_train_test = 0.7\n",
    "l = int(proportion_train_test * len(p_df))\n",
    "col = p_df.columns"
   ]
  },
  {
   "cell_type": "code",
   "execution_count": 38,
   "metadata": {},
   "outputs": [],
   "source": [
    "# Slises:\n",
    "X_train, X_test, y_train, y_test = p_df[col[1:]][:l], p_df[col[1:]][l:], p_df[col[0]][:l], p_df[col[0]][l:]"
   ]
  },
  {
   "cell_type": "code",
   "execution_count": 39,
   "metadata": {},
   "outputs": [],
   "source": [
    "# sklearn function\n",
    "from sklearn.model_selection import train_test_split\n",
    "X_train, X_test, y_train, y_test = train_test_split(p_df[col[1:]], p_df[col[0]], test_size=0.3, shuffle=False)"
   ]
  },
  {
   "attachments": {},
   "cell_type": "markdown",
   "metadata": {},
   "source": [
    "As a result, I got the training and test DataSets.\n"
   ]
  },
  {
   "cell_type": "code",
   "execution_count": 40,
   "metadata": {},
   "outputs": [
    {
     "name": "stdout",
     "output_type": "stream",
     "text": [
      "X_train (201, 5)\n",
      "X_test (87, 5)\n",
      "y_train (201,)\n",
      "y_test (87,)\n"
     ]
    }
   ],
   "source": [
    "print('X_train', X_train.shape)\n",
    "print('X_test', X_test.shape)\n",
    "print('y_train', y_train.shape)\n",
    "print('y_test', y_test.shape)"
   ]
  },
  {
   "cell_type": "markdown",
   "metadata": {},
   "source": [
    "### Creating a linear model using sklearn\n"
   ]
  },
  {
   "attachments": {},
   "cell_type": "markdown",
   "metadata": {},
   "source": [
    "To build a linear model, I followed these steps: I created the linear model itself using `sklearn.linear_model.LinearRegression()`, then I fitted it to the training data (X_train and y_train).\n",
    "\n",
    "After that, I tested the model's performance on the test data (X_test) and made predictions based on the model."
   ]
  },
  {
   "cell_type": "code",
   "execution_count": 44,
   "metadata": {},
   "outputs": [],
   "source": [
    "from sklearn.linear_model import LinearRegression\n",
    "regressor = LinearRegression()\n",
    "regressor.fit(X_train, y_train)\n",
    "y_pred_test = regressor.predict(X_test)\n",
    "y_pred_train = regressor.predict(X_train)"
   ]
  },
  {
   "cell_type": "markdown",
   "metadata": {},
   "source": [
    "### Calculation of basic statistical indicators\n"
   ]
  },
  {
   "attachments": {},
   "cell_type": "markdown",
   "metadata": {},
   "source": [
    "After making predictions on the training and test sets, I stored the results in the **y_pred_train** and **y_pred_test** variables, respectively.\n",
    "\n",
    "To assess the adequacy and accuracy of our linear model, I used various metrics from the **sklearn.metrics** module. These metrics provided valuable insights into how well the model performed on both the training and test data.\n",
    "\n",
    "Additionally, I obtained the parameters of the linear model to understand its coefficients and intercept, which were crucial for interpreting the relationship between the input features and the target variable.\n",
    "\n"
   ]
  },
  {
   "cell_type": "code",
   "execution_count": 45,
   "metadata": {},
   "outputs": [
    {
     "name": "stdout",
     "output_type": "stream",
     "text": [
      "Correlation train 0.9625862760904372\n",
      "Correlation test 0.6888681049525154\n",
      "Coefficients: [ 0.79232453  0.14383752  7.98578085 -1.58666929  2.12375616]\n",
      "Pair the feature names with the coefficients:\n",
      "Herbicides, haulm destructors and moss killers : 0.7923245331894001\n",
      "Insecticides and acaricides : 0.14383751668946254\n",
      "Molluscicides : 7.985780854705388\n",
      "Plant growth regulators : -1.5866692946920782\n",
      "Other plant protection products : 2.123756164169985\n",
      "Intercept -188738.78613398876\n",
      "Mean Absolute Error (train): 1032241.3884064511\n",
      "Mean Absolute Error (test): 2720115.1020331895\n",
      "Mean Squared Error (train): 3225638565885.036\n",
      "Mean Squared Error (test): 34849571028214.34\n",
      "Root Mean Squared Error (train): 1796006.2822509937\n",
      "Root Mean Squared Error (test): 5903352.524474067\n"
     ]
    }
   ],
   "source": [
    "from sklearn import metrics\n",
    "print(\"Correlation train\", regressor.score(X_train, y_train))\n",
    "print(\"Correlation test\", regressor.score(X_test, y_test))\n",
    "print(\"Coefficients:\", regressor.coef_)\n",
    "# pair the feature names with the coefficients\n",
    "print('Pair the feature names with the coefficients:')\n",
    "for s in zip(col[1:], regressor.coef_):\n",
    "    print(s[0], \":\", s[1])\n",
    "print(\"Intercept\", regressor.intercept_)\n",
    "print('Mean Absolute Error (train):', metrics.mean_absolute_error(y_train, y_pred_train))\n",
    "print('Mean Absolute Error (test):', metrics.mean_absolute_error(y_test, y_pred_test))\n",
    "print('Mean Squared Error (train):', metrics.mean_squared_error(y_train, y_pred_train))\n",
    "print('Mean Squared Error (test):', metrics.mean_squared_error(y_test, y_pred_test))\n",
    "print('Root Mean Squared Error (train):', np.sqrt(metrics.mean_squared_error(y_train, y_pred_train)))\n",
    "print('Root Mean Squared Error (test):', np.sqrt(metrics.mean_squared_error(y_test, y_pred_test)))"
   ]
  },
  {
   "cell_type": "markdown",
   "metadata": {},
   "source": [
    "### Creating models using statsmodels\n"
   ]
  },
  {
   "attachments": {},
   "cell_type": "markdown",
   "metadata": {},
   "source": [
    "Indeed, the significant difference in accuracy between the training and test results indicates that the linear model is not suitable for accurately predicting Fungicides and bactericides sales based on the sales of other pesticides. This discrepancy suggests that the model is likely overfitting the training data and failing to generalize well to unseen data.\n",
    "\n",
    "To address this issue and generate a summary report, I will utilize the **statsmodels.api** framework. This framework provides a more comprehensive set of statistical tools, including model summaries, which will enable me to better analyze the model's performance and make informed decisions on improving its accuracy and adequacy."
   ]
  },
  {
   "cell_type": "code",
   "execution_count": 46,
   "metadata": {},
   "outputs": [
    {
     "name": "stdout",
     "output_type": "stream",
     "text": [
      "                                     OLS Regression Results                                     \n",
      "================================================================================================\n",
      "Dep. Variable:     Fungicides and bactericides   R-squared (uncentered):                   0.970\n",
      "Model:                                     OLS   Adj. R-squared (uncentered):              0.969\n",
      "Method:                          Least Squares   F-statistic:                              1248.\n",
      "Date:                         Sun, 16 Jul 2023   Prob (F-statistic):                   1.74e-146\n",
      "Time:                                 17:34:18   Log-Likelihood:                         -3180.6\n",
      "No. Observations:                          201   AIC:                                      6371.\n",
      "Df Residuals:                              196   BIC:                                      6388.\n",
      "Df Model:                                    5                                                  \n",
      "Covariance Type:                     nonrobust                                                  \n",
      "==================================================================================================================\n",
      "                                                     coef    std err          t      P>|t|      [0.025      0.975]\n",
      "------------------------------------------------------------------------------------------------------------------\n",
      "Herbicides, haulm destructors and moss killers     0.7732      0.069     11.127      0.000       0.636       0.910\n",
      "Insecticides and acaricides                        0.1520      0.076      1.990      0.048       0.001       0.303\n",
      "Molluscicides                                      8.6694      1.861      4.659      0.000       4.999      12.339\n",
      "Plant growth regulators                           -1.6382      0.555     -2.954      0.004      -2.732      -0.544\n",
      "Other plant protection products                    2.1155      0.055     38.449      0.000       2.007       2.224\n",
      "==============================================================================\n",
      "Omnibus:                       52.085   Durbin-Watson:                   1.047\n",
      "Prob(Omnibus):                  0.000   Jarque-Bera (JB):             1158.183\n",
      "Skew:                           0.031   Prob(JB):                    3.19e-252\n",
      "Kurtosis:                      14.760   Cond. No.                         118.\n",
      "==============================================================================\n",
      "\n",
      "Notes:\n",
      "[1] R² is computed without centering (uncentered) since the model does not contain a constant.\n",
      "[2] Standard Errors assume that the covariance matrix of the errors is correctly specified.\n"
     ]
    }
   ],
   "source": [
    "import statsmodels.api as sm\n",
    "model = sm.OLS(y_train, X_train)\n",
    "results = model.fit()\n",
    "y_pred_test_OLS = results.predict(X_test)\n",
    "y_pred_train_OLS = results.predict(X_train)\n",
    "print(results.summary())"
   ]
  },
  {
   "attachments": {},
   "cell_type": "markdown",
   "metadata": {},
   "source": [
    "This framework uses the same principles for creating and fitting models. It allowsed me to build a summary report, and also I got all the other stats coefficients in the same way:\n"
   ]
  },
  {
   "cell_type": "code",
   "execution_count": 47,
   "metadata": {},
   "outputs": [
    {
     "name": "stdout",
     "output_type": "stream",
     "text": [
      "coefficient of determination: 0.9695510214809883\n",
      "adjusted coefficient of determination: 0.968774261824891\n",
      "regression coefficients:\n",
      "Herbicides, haulm destructors and moss killers    0.77\n",
      "Insecticides and acaricides                       0.15\n",
      "Molluscicides                                     8.67\n",
      "Plant growth regulators                          -1.64\n",
      "Other plant protection products                   2.12\n",
      "dtype: float64\n"
     ]
    }
   ],
   "source": [
    "print('coefficient of determination:', results.rsquared)\n",
    "print('adjusted coefficient of determination:', results.rsquared_adj)\n",
    "print('regression coefficients:', results.params, sep = '\\n')"
   ]
  },
  {
   "attachments": {},
   "cell_type": "markdown",
   "metadata": {},
   "source": [
    "I joined the results to compare these two framework models using `pandas.DataFrame.join()`"
   ]
  },
  {
   "cell_type": "code",
   "execution_count": 48,
   "metadata": {},
   "outputs": [
    {
     "data": {
      "text/html": [
       "<div>\n",
       "<style scoped>\n",
       "    .dataframe tbody tr th:only-of-type {\n",
       "        vertical-align: middle;\n",
       "    }\n",
       "\n",
       "    .dataframe tbody tr th {\n",
       "        vertical-align: top;\n",
       "    }\n",
       "\n",
       "    .dataframe thead th {\n",
       "        text-align: right;\n",
       "    }\n",
       "</style>\n",
       "<table border=\"1\" class=\"dataframe\">\n",
       "  <thead>\n",
       "    <tr style=\"text-align: right;\">\n",
       "      <th></th>\n",
       "      <th></th>\n",
       "      <th>Actual_train</th>\n",
       "      <th>Predicted_train</th>\n",
       "      <th>Predicted_train_OLS</th>\n",
       "      <th>Actual_test</th>\n",
       "      <th>Predicted_test</th>\n",
       "      <th>Predicted_test_OLS</th>\n",
       "    </tr>\n",
       "    <tr>\n",
       "      <th>country_name</th>\n",
       "      <th>TIME_PERIOD</th>\n",
       "      <th></th>\n",
       "      <th></th>\n",
       "      <th></th>\n",
       "      <th></th>\n",
       "      <th></th>\n",
       "      <th></th>\n",
       "    </tr>\n",
       "  </thead>\n",
       "  <tbody>\n",
       "    <tr>\n",
       "      <th rowspan=\"5\" valign=\"top\">Austria</th>\n",
       "      <th>2011</th>\n",
       "      <td>1,544,218.00</td>\n",
       "      <td>1,335,677.58</td>\n",
       "      <td>1,516,917.57</td>\n",
       "      <td>NaN</td>\n",
       "      <td>NaN</td>\n",
       "      <td>NaN</td>\n",
       "    </tr>\n",
       "    <tr>\n",
       "      <th>2012</th>\n",
       "      <td>1,634,371.00</td>\n",
       "      <td>1,243,499.21</td>\n",
       "      <td>1,416,984.06</td>\n",
       "      <td>NaN</td>\n",
       "      <td>NaN</td>\n",
       "      <td>NaN</td>\n",
       "    </tr>\n",
       "    <tr>\n",
       "      <th>2013</th>\n",
       "      <td>1,492,799.00</td>\n",
       "      <td>1,024,288.82</td>\n",
       "      <td>1,197,669.29</td>\n",
       "      <td>NaN</td>\n",
       "      <td>NaN</td>\n",
       "      <td>NaN</td>\n",
       "    </tr>\n",
       "    <tr>\n",
       "      <th>2014</th>\n",
       "      <td>1,641,055.00</td>\n",
       "      <td>1,078,618.07</td>\n",
       "      <td>1,250,880.79</td>\n",
       "      <td>NaN</td>\n",
       "      <td>NaN</td>\n",
       "      <td>NaN</td>\n",
       "    </tr>\n",
       "    <tr>\n",
       "      <th>2015</th>\n",
       "      <td>2,130,973.00</td>\n",
       "      <td>1,036,544.55</td>\n",
       "      <td>1,212,244.93</td>\n",
       "      <td>NaN</td>\n",
       "      <td>NaN</td>\n",
       "      <td>NaN</td>\n",
       "    </tr>\n",
       "    <tr>\n",
       "      <th>...</th>\n",
       "      <th>...</th>\n",
       "      <td>...</td>\n",
       "      <td>...</td>\n",
       "      <td>...</td>\n",
       "      <td>...</td>\n",
       "      <td>...</td>\n",
       "      <td>...</td>\n",
       "    </tr>\n",
       "    <tr>\n",
       "      <th rowspan=\"5\" valign=\"top\">United Kingdom</th>\n",
       "      <th>2015</th>\n",
       "      <td>NaN</td>\n",
       "      <td>NaN</td>\n",
       "      <td>NaN</td>\n",
       "      <td>6,032,359.00</td>\n",
       "      <td>3,957,038.46</td>\n",
       "      <td>3,768,210.15</td>\n",
       "    </tr>\n",
       "    <tr>\n",
       "      <th>2016</th>\n",
       "      <td>NaN</td>\n",
       "      <td>NaN</td>\n",
       "      <td>NaN</td>\n",
       "      <td>5,330,003.00</td>\n",
       "      <td>7,634,222.77</td>\n",
       "      <td>7,637,855.95</td>\n",
       "    </tr>\n",
       "    <tr>\n",
       "      <th>2017</th>\n",
       "      <td>NaN</td>\n",
       "      <td>NaN</td>\n",
       "      <td>NaN</td>\n",
       "      <td>5,484,053.00</td>\n",
       "      <td>8,119,198.28</td>\n",
       "      <td>8,123,750.43</td>\n",
       "    </tr>\n",
       "    <tr>\n",
       "      <th>2018</th>\n",
       "      <td>NaN</td>\n",
       "      <td>NaN</td>\n",
       "      <td>NaN</td>\n",
       "      <td>4,492,460.00</td>\n",
       "      <td>8,460,127.02</td>\n",
       "      <td>8,441,275.87</td>\n",
       "    </tr>\n",
       "    <tr>\n",
       "      <th>2019</th>\n",
       "      <td>NaN</td>\n",
       "      <td>NaN</td>\n",
       "      <td>NaN</td>\n",
       "      <td>6,056,984.00</td>\n",
       "      <td>8,221,924.85</td>\n",
       "      <td>8,220,913.23</td>\n",
       "    </tr>\n",
       "  </tbody>\n",
       "</table>\n",
       "<p>288 rows × 6 columns</p>\n",
       "</div>"
      ],
      "text/plain": [
       "                            Actual_train  Predicted_train  \\\n",
       "country_name   TIME_PERIOD                                  \n",
       "Austria        2011         1,544,218.00     1,335,677.58   \n",
       "               2012         1,634,371.00     1,243,499.21   \n",
       "               2013         1,492,799.00     1,024,288.82   \n",
       "               2014         1,641,055.00     1,078,618.07   \n",
       "               2015         2,130,973.00     1,036,544.55   \n",
       "...                                  ...              ...   \n",
       "United Kingdom 2015                  NaN              NaN   \n",
       "               2016                  NaN              NaN   \n",
       "               2017                  NaN              NaN   \n",
       "               2018                  NaN              NaN   \n",
       "               2019                  NaN              NaN   \n",
       "\n",
       "                            Predicted_train_OLS  Actual_test  Predicted_test  \\\n",
       "country_name   TIME_PERIOD                                                     \n",
       "Austria        2011                1,516,917.57          NaN             NaN   \n",
       "               2012                1,416,984.06          NaN             NaN   \n",
       "               2013                1,197,669.29          NaN             NaN   \n",
       "               2014                1,250,880.79          NaN             NaN   \n",
       "               2015                1,212,244.93          NaN             NaN   \n",
       "...                                         ...          ...             ...   \n",
       "United Kingdom 2015                         NaN 6,032,359.00    3,957,038.46   \n",
       "               2016                         NaN 5,330,003.00    7,634,222.77   \n",
       "               2017                         NaN 5,484,053.00    8,119,198.28   \n",
       "               2018                         NaN 4,492,460.00    8,460,127.02   \n",
       "               2019                         NaN 6,056,984.00    8,221,924.85   \n",
       "\n",
       "                            Predicted_test_OLS  \n",
       "country_name   TIME_PERIOD                      \n",
       "Austria        2011                        NaN  \n",
       "               2012                        NaN  \n",
       "               2013                        NaN  \n",
       "               2014                        NaN  \n",
       "               2015                        NaN  \n",
       "...                                        ...  \n",
       "United Kingdom 2015               3,768,210.15  \n",
       "               2016               7,637,855.95  \n",
       "               2017               8,123,750.43  \n",
       "               2018               8,441,275.87  \n",
       "               2019               8,220,913.23  \n",
       "\n",
       "[288 rows x 6 columns]"
      ]
     },
     "execution_count": 48,
     "metadata": {},
     "output_type": "execute_result"
    }
   ],
   "source": [
    "df_test = pd.DataFrame({'Actual_test': y_test, 'Predicted_test': y_pred_test, 'Predicted_test_OLS': y_pred_test_OLS})\n",
    "df_train = pd.DataFrame({'Actual_train': y_train, 'Predicted_train': y_pred_train, 'Predicted_train_OLS': y_pred_train_OLS})\n",
    "df_res = df_train.join(df_test, how='outer')\n",
    "df_res"
   ]
  },
  {
   "attachments": {},
   "cell_type": "markdown",
   "metadata": {},
   "source": [
    "Pandas joins and orders data correctly according to the index field automatically. Therefore, it is very important to check the index field datatype.\n"
   ]
  },
  {
   "attachments": {},
   "cell_type": "markdown",
   "metadata": {},
   "source": [
    "Then, I tried to visualize the data.\n"
   ]
  },
  {
   "cell_type": "code",
   "execution_count": 49,
   "metadata": {},
   "outputs": [
    {
     "data": {
      "image/png": "[encoded data removed]",
      "text/plain": [
       "<Figure size 640x480 with 1 Axes>"
      ]
     },
     "metadata": {},
     "output_type": "display_data"
    }
   ],
   "source": [
    "df_res[['Actual_test', 'Predicted_test', 'Predicted_test_OLS']].plot()\n",
    "plt.xticks(rotation=45)\n",
    "plt.show()"
   ]
  },
  {
   "attachments": {},
   "cell_type": "markdown",
   "metadata": {},
   "source": [
    "I observed that the results of the two models I implemented were the same. It was interesting to note that despite this similarity, the forecast on the test data was not perfect. To gain deeper insights into the differences between our forecast and the real data, I decided to use `seaborn.pairplot()`, a visualization tool. By creating scatter plots with this function, I was able to compare the forecasted values from both models with the actual values."
   ]
  },
  {
   "cell_type": "code",
   "execution_count": 50,
   "metadata": {},
   "outputs": [
    {
     "data": {
      "image/png": "[encoded data removed]",
      "text/plain": [
       "<Figure size 800x800 with 1 Axes>"
      ]
     },
     "metadata": {},
     "output_type": "display_data"
    }
   ],
   "source": [
    "import seaborn as sns\n",
    "sns.pairplot(df_test, x_vars=['Actual_test'], y_vars='Predicted_test',  kind='reg', height = 8)\n",
    "plt.show()"
   ]
  },
  {
   "attachments": {},
   "cell_type": "markdown",
   "metadata": {},
   "source": [
    "In my project, I used a scatter plot to compare real data values with predicted values. The plot confirmed that the forecast quality was not satisfactory, as we initially observed. This analysis highlighted the challenge of making accurate forecasts for Fungicides and bactericides sales based only on other pesticide sales data. The need for future sales data adds complexity to the task and indicates that relying solely on historical data may not be sufficient for accurate predictions. Additional factors and external data may be necessary to improve forecast accuracy."
   ]
  },
  {
   "cell_type": "markdown",
   "metadata": {},
   "source": [
    "## Artificial Neural Network\n"
   ]
  },
  {
   "cell_type": "markdown",
   "metadata": {},
   "source": [
    "### Creating a linear model using sklearn\n"
   ]
  },
  {
   "attachments": {},
   "cell_type": "markdown",
   "metadata": {},
   "source": [
    "Since I discovered that the dependence between the variables is nonlinear, I decided to build a nonlinear model based on neural networks. To achieve this, I used popular libraries such as **[scikit-learn](https://scikit-learn.org/stable/index.html)** and **[keras](https://keras.io/)**, which allowed me to construct, train, and make forecasts using the same principles as the linear model. The main difference was in the creation of the model, showcasing the polymorphism of Object-Oriented Programming (OOP) where different models can be seamlessly integrated into the same framework while utilizing different underlying architectures and algorithms."
   ]
  },
  {
   "attachments": {},
   "cell_type": "markdown",
   "metadata": {},
   "source": [
    "I created a multilayer perceptron that consist of 100 neurons in hidden layer, fit it and test.\n"
   ]
  },
  {
   "cell_type": "code",
   "execution_count": 52,
   "metadata": {},
   "outputs": [],
   "source": [
    "from sklearn.neural_network import MLPRegressor\n",
    "regressor = MLPRegressor(random_state=1, max_iter=500)\n",
    "regressor.fit(X_train, y_train)\n",
    "y_pred_test_MLP = regressor.predict(X_test)\n",
    "y_pred_train_MLP = regressor.predict(X_train)"
   ]
  },
  {
   "attachments": {},
   "cell_type": "markdown",
   "metadata": {},
   "source": [
    "I calculated the same statistics as in Linear Regression.\n"
   ]
  },
  {
   "cell_type": "code",
   "execution_count": 54,
   "metadata": {},
   "outputs": [
    {
     "name": "stdout",
     "output_type": "stream",
     "text": [
      "Correlation train 0.9393334154260803\n",
      "Correlation test 0.8207034283210148\n",
      "Mean Absolute Error (train): 1258755.0940049984\n",
      "Mean Absolute Error (test): 2394402.2775823246\n",
      "Mean Squared Error (train): 5230392872283.543\n",
      "Mean Squared Error (test): 20082828888013.86\n",
      "Root Mean Squared Error (train): 2287005.219120311\n",
      "Root Mean Squared Error (test): 4481386.937992954\n"
     ]
    }
   ],
   "source": [
    "print(\"Correlation train\", regressor.score(X_train, y_train))\n",
    "print(\"Correlation test\", regressor.score(X_test, y_test))\n",
    "\n",
    "print('Mean Absolute Error (train):', metrics.mean_absolute_error(y_train, y_pred_train_MLP))\n",
    "print('Mean Absolute Error (test):', metrics.mean_absolute_error(y_test, y_pred_test_MLP))\n",
    "print('Mean Squared Error (train):', metrics.mean_squared_error(y_train, y_pred_train_MLP))\n",
    "print('Mean Squared Error (test):', metrics.mean_squared_error(y_test, y_pred_test_MLP))\n",
    "print('Root Mean Squared Error (train):', np.sqrt(metrics.mean_squared_error(y_train, y_pred_train_MLP)))\n",
    "print('Root Mean Squared Error (test):', np.sqrt(metrics.mean_squared_error(y_test, y_pred_test_MLP)))"
   ]
  },
  {
   "attachments": {},
   "cell_type": "markdown",
   "metadata": {},
   "source": [
    "As evident, there are much less errors for test than for Linear regression.\n"
   ]
  },
  {
   "cell_type": "markdown",
   "metadata": {},
   "source": [
    "### Creating a linear model using keras\n"
   ]
  },
  {
   "attachments": {},
   "cell_type": "markdown",
   "metadata": {},
   "source": [
    "I then tried to use a more powerful framework **keras**.\n"
   ]
  },
  {
   "attachments": {},
   "cell_type": "markdown",
   "metadata": {},
   "source": [
    "In my project, the first step was to normalize all the data. To achieve this, I utilized the **sklearn.preprocessing.MinMaxScaler** module, which allowed me to easily normalize the data using the **fit_transform()** method. This scaling process transformed the data into a common range, typically between 0 and 1, ensuring that all features had equal importance during model training.\n",
    "\n",
    "Additionally, I could conveniently convert the normalized data back to its original scale using the **inverse_transform()** method when needed. This ensured that I could interpret and use the model predictions in the original data units."
   ]
  },
  {
   "cell_type": "code",
   "execution_count": 55,
   "metadata": {},
   "outputs": [],
   "source": [
    "from sklearn.preprocessing import MinMaxScaler\n",
    "scaler_x_train = MinMaxScaler(feature_range=(0, 1))\n",
    "scaler_y_train = MinMaxScaler(feature_range=(0, 1))\n",
    "scaler_x_test = MinMaxScaler(feature_range=(0, 1))\n",
    "scaler_y_test = MinMaxScaler(feature_range=(0, 1))\n",
    "\n",
    "# Normilized data\n",
    "scaled_x_train = scaler_x_train.fit_transform(X_train.astype('float64')) \n",
    "scaled_y_train = scaler_y_train.fit_transform(y_train.astype('float64').values.reshape(-1, 1))\n",
    "scaled_x_test = scaler_x_test.fit_transform(X_test.astype('float64'))\n",
    "scaled_y_test = scaler_y_test.fit_transform(y_test.astype('float64').values.reshape(-1, 1))"
   ]
  },
  {
   "attachments": {},
   "cell_type": "markdown",
   "metadata": {},
   "source": [
    "A classical neural network is a [**multilayer neural network with back propagation**](https://en.wikipedia.org/wiki/Backpropagation?utm_medium=Exinfluencer&utm_source=Exinfluencer&utm_content=000026UJ&utm_term=10006555&utm_id=NA-SkillsNetwork-Channel-SkillsNetworkGuidedProjectsdatascienceinagricultureprognosticationusingbyneuralnetwork466-2022-01-01).\n",
    "\n",
    "I used the **keras** framework as mentioned earlier.\n",
    "First of all, I created a Neural Network model as separate function.\n",
    "\n",
    "A neural network is a sequence of layers. The function **Sequential()** was used to create a network.\n",
    "\n",
    "I created a network that consists of 2 hidden layers each of which consists of 100 neurons. **keras.layers.Dense()**\n",
    "\n",
    "To avoid retraining problems, I used additional layers **keras.layers.Dropout()**\n",
    "\n",
    "The output layer will consist of one neuron since I only have one value at the output.\n",
    "\n",
    "I then compiled the model for fitting and predicting: **keras.Model.compile()**\n"
   ]
  },
  {
   "cell_type": "code",
   "execution_count": 56,
   "metadata": {},
   "outputs": [],
   "source": [
    "def BP_model(X):\n",
    "    # create model\n",
    "    model = Sequential()\n",
    "    #model.add(BatchNormalization(input_shape=tuple([X.shape[1]])))\n",
    "    model.add(Dense(100, input_dim=X.shape[1], kernel_initializer='normal', activation='relu'))\n",
    "    model.add(Dropout(0.2))\n",
    "    model.add(Dense(100, kernel_initializer='normal', activation='relu'))\n",
    "    model.add(Dropout(0.2))\n",
    "    model.add(Dense(1, kernel_initializer='normal'))\n",
    "    # Compile model\n",
    "    model.compile(loss='mean_squared_error', optimizer='adam')\n",
    "    return model"
   ]
  },
  {
   "attachments": {},
   "cell_type": "markdown",
   "metadata": {},
   "source": [
    "Once the model function was built, I created a neural network directly using **keras.wrappers.scikit_learn.KerasRegressor()**. This integration allowed me to leverage the power of Keras and its functionalities within the scikit-learn framework.\n",
    "\n",
    "I specified the learning parameters for the neural network, including the number of fitting `epochs and batch size.` "
   ]
  },
  {
   "cell_type": "code",
   "execution_count": 58,
   "metadata": {},
   "outputs": [],
   "source": [
    "from keras.wrappers.scikit_learn import KerasRegressor\n",
    "from keras.models import Sequential\n",
    "from keras.layers import Dense\n",
    "from keras.layers import Dropout\n",
    "epochs = 10\n",
    "\n",
    "batch_size=int(y_train.shape[0]*.1)\n",
    "\n",
    "estimator = KerasRegressor(build_fn=BP_model, X=scaled_x_train, epochs=epochs, batch_size=batch_size, verbose=0)"
   ]
  },
  {
   "attachments": {},
   "cell_type": "markdown",
   "metadata": {},
   "source": [
    "In my project, I trained our model for 10 epochs. However, the fitting process proved to be slow, so to save time, I decided to save the fitted model to a file. This way, I can reuse the trained model without having to refit it each time I run the code.\n",
    "\n",
    "To facilitate the process, I provided the option to upload the fitted model if needed, using the parameter **fitting on True**. Additionally, if I want to resave the model after refitting, I can use the parameter **fitting_save on True**.\n"
   ]
  },
  {
   "cell_type": "code",
   "execution_count": 60,
   "metadata": {},
   "outputs": [
    {
     "name": "stdout",
     "output_type": "stream",
     "text": [
      "Saved model to disk\n",
      "Loaded model from disk\n"
     ]
    }
   ],
   "source": [
    "fitting = True\n",
    "fitting_save = True\n",
    "\n",
    "\n",
    "import pickle\n",
    "\n",
    "if fitting:\n",
    "    history=estimator.fit(scaled_x_train, scaled_y_train, validation_data=(scaled_x_test, scaled_y_test))\n",
    "    if fitting_save:\n",
    "        estimator.model.save('BP_saved_model.h5')\n",
    "        print(\"Saved model to disk\")\n",
    "        with open('history.pickle', 'wb') as f:\n",
    "            pickle.dump(history.history, f)\n",
    "# load model \n",
    "from keras.models import load_model\n",
    "\n",
    "# Instantiate the model as you please (we are not going to use this)\n",
    "estimator = KerasRegressor(build_fn=BP_model, X=scaled_x_train, epochs=epochs, batch_size=batch_size, verbose=0)\n",
    "# This is where you load the actual saved model into a new variable.\n",
    "estimator.model = load_model('BP_saved_model.h5')    \n",
    "with open('history.pickle', 'rb') as f:\n",
    "    history = pickle.load(f)\n",
    "print(\"Loaded model from disk\")"
   ]
  },
  {
   "attachments": {},
   "cell_type": "markdown",
   "metadata": {},
   "source": [
    "Now I wanted to show the **loss and validation loss dynamics**"
   ]
  },
  {
   "cell_type": "code",
   "execution_count": 61,
   "metadata": {},
   "outputs": [
    {
     "data": {
      "image/png": "[encoded data removed]",
      "text/plain": [
       "<Figure size 640x480 with 1 Axes>"
      ]
     },
     "metadata": {},
     "output_type": "display_data"
    }
   ],
   "source": [
    "plt.figure()\n",
    "plt.plot(history['loss'], label='train')\n",
    "plt.plot(history['val_loss'], label='test')\n",
    "plt.ylabel('loss')\n",
    "plt.xlabel('epoch')\n",
    "plt.legend()\n",
    "plt.show()"
   ]
  },
  {
   "attachments": {},
   "cell_type": "markdown",
   "metadata": {},
   "source": [
    "I observed that the Neural Network was well-fitted, and there was no evidence of overfitting. This finding indicates that the model was able to generalize well to unseen data and did not memorize the training data.\n",
    "\n",
    "Next, I calculated the predictions of the training set (**res_train_ANN**) and the test set (**res_test_ANN**) using the fitted Neural Network. These predictions allow me to evaluate the model's performance on both the training and test data and assess how well it can generalize to new, unseen data."
   ]
  },
  {
   "attachments": {},
   "cell_type": "markdown",
   "metadata": {},
   "source": [
    "I then made a prediction and then tried to inverse normalize data.\n"
   ]
  },
  {
   "cell_type": "code",
   "execution_count": 62,
   "metadata": {},
   "outputs": [],
   "source": [
    "res_tr=estimator.predict(scaled_x_train)\n",
    "res_ts=estimator.predict(scaled_x_test)\n",
    "res_train_ANN=scaler_y_train.inverse_transform(res_tr.reshape(-1, 1)).flatten()\n",
    "res_test_ANN=scaler_y_test.inverse_transform(res_ts.reshape(-1, 1)).flatten()"
   ]
  },
  {
   "attachments": {},
   "cell_type": "markdown",
   "metadata": {},
   "source": [
    "Then to calculate the same statistics as in Linear Regression.\n"
   ]
  },
  {
   "cell_type": "code",
   "execution_count": 64,
   "metadata": {},
   "outputs": [
    {
     "name": "stdout",
     "output_type": "stream",
     "text": [
      "Correlation train 0.9657770703060564\n",
      "Correlation test 0.9228343592471828\n",
      "Mean Absolute Error (train): 1047038.2554415422\n",
      "Mean Absolute Error (test): 3691064.3746408047\n",
      "Mean Squared Error (train): 3304721948060.3213\n",
      "Mean Squared Error (test): 37444973820132.445\n",
      "Root Mean Squared Error (train): 1817889.4212961143\n",
      "Root Mean Squared Error (test): 6119229.838805897\n"
     ]
    }
   ],
   "source": [
    "print(\"Correlation train\", regressor.score(X_train, res_train_ANN))\n",
    "print(\"Correlation test\", regressor.score(X_test, res_test_ANN))\n",
    "\n",
    "print('Mean Absolute Error (train):', metrics.mean_absolute_error(y_train, res_train_ANN))\n",
    "print('Mean Absolute Error (test):', metrics.mean_absolute_error(y_test, res_test_ANN))\n",
    "print('Mean Squared Error (train):', metrics.mean_squared_error(y_train, res_train_ANN))\n",
    "print('Mean Squared Error (test):', metrics.mean_squared_error(y_test, res_test_ANN))\n",
    "print('Root Mean Squared Error (train):', np.sqrt(metrics.mean_squared_error(y_train, res_train_ANN)))\n",
    "print('Root Mean Squared Error (test):', np.sqrt(metrics.mean_squared_error(y_test, res_test_ANN)))"
   ]
  },
  {
   "attachments": {},
   "cell_type": "markdown",
   "metadata": {},
   "source": [
    "I clearly observed that the correlation is better than for the previous NN but the error is worse. Then to visualize the data for comparison.\n"
   ]
  },
  {
   "cell_type": "code",
   "execution_count": 65,
   "metadata": {},
   "outputs": [
    {
     "data": {
      "text/html": [
       "<div>\n",
       "<style scoped>\n",
       "    .dataframe tbody tr th:only-of-type {\n",
       "        vertical-align: middle;\n",
       "    }\n",
       "\n",
       "    .dataframe tbody tr th {\n",
       "        vertical-align: top;\n",
       "    }\n",
       "\n",
       "    .dataframe thead th {\n",
       "        text-align: right;\n",
       "    }\n",
       "</style>\n",
       "<table border=\"1\" class=\"dataframe\">\n",
       "  <thead>\n",
       "    <tr style=\"text-align: right;\">\n",
       "      <th></th>\n",
       "      <th></th>\n",
       "      <th>Actual_train</th>\n",
       "      <th>Predicted_train</th>\n",
       "      <th>Predicted_train_MLP</th>\n",
       "      <th>Predicted_train_ANN</th>\n",
       "      <th>Actual_test</th>\n",
       "      <th>Predicted_test</th>\n",
       "      <th>Predicted_test_MLP</th>\n",
       "      <th>Predicted_test_ANN</th>\n",
       "    </tr>\n",
       "    <tr>\n",
       "      <th>country_name</th>\n",
       "      <th>TIME_PERIOD</th>\n",
       "      <th></th>\n",
       "      <th></th>\n",
       "      <th></th>\n",
       "      <th></th>\n",
       "      <th></th>\n",
       "      <th></th>\n",
       "      <th></th>\n",
       "      <th></th>\n",
       "    </tr>\n",
       "  </thead>\n",
       "  <tbody>\n",
       "    <tr>\n",
       "      <th rowspan=\"5\" valign=\"top\">Austria</th>\n",
       "      <th>2011</th>\n",
       "      <td>1,544,218.00</td>\n",
       "      <td>1,335,677.58</td>\n",
       "      <td>1,251,639.94</td>\n",
       "      <td>1,025,888.81</td>\n",
       "      <td>NaN</td>\n",
       "      <td>NaN</td>\n",
       "      <td>NaN</td>\n",
       "      <td>NaN</td>\n",
       "    </tr>\n",
       "    <tr>\n",
       "      <th>2012</th>\n",
       "      <td>1,634,371.00</td>\n",
       "      <td>1,243,499.21</td>\n",
       "      <td>1,252,847.19</td>\n",
       "      <td>954,667.12</td>\n",
       "      <td>NaN</td>\n",
       "      <td>NaN</td>\n",
       "      <td>NaN</td>\n",
       "      <td>NaN</td>\n",
       "    </tr>\n",
       "    <tr>\n",
       "      <th>2013</th>\n",
       "      <td>1,492,799.00</td>\n",
       "      <td>1,024,288.82</td>\n",
       "      <td>1,047,400.87</td>\n",
       "      <td>854,324.62</td>\n",
       "      <td>NaN</td>\n",
       "      <td>NaN</td>\n",
       "      <td>NaN</td>\n",
       "      <td>NaN</td>\n",
       "    </tr>\n",
       "    <tr>\n",
       "      <th>2014</th>\n",
       "      <td>1,641,055.00</td>\n",
       "      <td>1,078,618.07</td>\n",
       "      <td>1,118,236.12</td>\n",
       "      <td>870,429.38</td>\n",
       "      <td>NaN</td>\n",
       "      <td>NaN</td>\n",
       "      <td>NaN</td>\n",
       "      <td>NaN</td>\n",
       "    </tr>\n",
       "    <tr>\n",
       "      <th>2015</th>\n",
       "      <td>2,130,973.00</td>\n",
       "      <td>1,036,544.55</td>\n",
       "      <td>1,081,871.10</td>\n",
       "      <td>873,536.06</td>\n",
       "      <td>NaN</td>\n",
       "      <td>NaN</td>\n",
       "      <td>NaN</td>\n",
       "      <td>NaN</td>\n",
       "    </tr>\n",
       "    <tr>\n",
       "      <th>...</th>\n",
       "      <th>...</th>\n",
       "      <td>...</td>\n",
       "      <td>...</td>\n",
       "      <td>...</td>\n",
       "      <td>...</td>\n",
       "      <td>...</td>\n",
       "      <td>...</td>\n",
       "      <td>...</td>\n",
       "      <td>...</td>\n",
       "    </tr>\n",
       "    <tr>\n",
       "      <th rowspan=\"5\" valign=\"top\">United Kingdom</th>\n",
       "      <th>2015</th>\n",
       "      <td>NaN</td>\n",
       "      <td>NaN</td>\n",
       "      <td>NaN</td>\n",
       "      <td>NaN</td>\n",
       "      <td>6,032,359.00</td>\n",
       "      <td>3,957,038.46</td>\n",
       "      <td>8,834,191.90</td>\n",
       "      <td>12,942,208.00</td>\n",
       "    </tr>\n",
       "    <tr>\n",
       "      <th>2016</th>\n",
       "      <td>NaN</td>\n",
       "      <td>NaN</td>\n",
       "      <td>NaN</td>\n",
       "      <td>NaN</td>\n",
       "      <td>5,330,003.00</td>\n",
       "      <td>7,634,222.77</td>\n",
       "      <td>7,640,446.07</td>\n",
       "      <td>9,585,179.00</td>\n",
       "    </tr>\n",
       "    <tr>\n",
       "      <th>2017</th>\n",
       "      <td>NaN</td>\n",
       "      <td>NaN</td>\n",
       "      <td>NaN</td>\n",
       "      <td>NaN</td>\n",
       "      <td>5,484,053.00</td>\n",
       "      <td>8,119,198.28</td>\n",
       "      <td>7,924,548.08</td>\n",
       "      <td>9,860,011.00</td>\n",
       "    </tr>\n",
       "    <tr>\n",
       "      <th>2018</th>\n",
       "      <td>NaN</td>\n",
       "      <td>NaN</td>\n",
       "      <td>NaN</td>\n",
       "      <td>NaN</td>\n",
       "      <td>4,492,460.00</td>\n",
       "      <td>8,460,127.02</td>\n",
       "      <td>8,522,905.02</td>\n",
       "      <td>10,684,299.00</td>\n",
       "    </tr>\n",
       "    <tr>\n",
       "      <th>2019</th>\n",
       "      <td>NaN</td>\n",
       "      <td>NaN</td>\n",
       "      <td>NaN</td>\n",
       "      <td>NaN</td>\n",
       "      <td>6,056,984.00</td>\n",
       "      <td>8,221,924.85</td>\n",
       "      <td>8,098,218.08</td>\n",
       "      <td>10,033,209.00</td>\n",
       "    </tr>\n",
       "  </tbody>\n",
       "</table>\n",
       "<p>288 rows × 8 columns</p>\n",
       "</div>"
      ],
      "text/plain": [
       "                            Actual_train  Predicted_train  \\\n",
       "country_name   TIME_PERIOD                                  \n",
       "Austria        2011         1,544,218.00     1,335,677.58   \n",
       "               2012         1,634,371.00     1,243,499.21   \n",
       "               2013         1,492,799.00     1,024,288.82   \n",
       "               2014         1,641,055.00     1,078,618.07   \n",
       "               2015         2,130,973.00     1,036,544.55   \n",
       "...                                  ...              ...   \n",
       "United Kingdom 2015                  NaN              NaN   \n",
       "               2016                  NaN              NaN   \n",
       "               2017                  NaN              NaN   \n",
       "               2018                  NaN              NaN   \n",
       "               2019                  NaN              NaN   \n",
       "\n",
       "                            Predicted_train_MLP  Predicted_train_ANN  \\\n",
       "country_name   TIME_PERIOD                                             \n",
       "Austria        2011                1,251,639.94         1,025,888.81   \n",
       "               2012                1,252,847.19           954,667.12   \n",
       "               2013                1,047,400.87           854,324.62   \n",
       "               2014                1,118,236.12           870,429.38   \n",
       "               2015                1,081,871.10           873,536.06   \n",
       "...                                         ...                  ...   \n",
       "United Kingdom 2015                         NaN                  NaN   \n",
       "               2016                         NaN                  NaN   \n",
       "               2017                         NaN                  NaN   \n",
       "               2018                         NaN                  NaN   \n",
       "               2019                         NaN                  NaN   \n",
       "\n",
       "                            Actual_test  Predicted_test  Predicted_test_MLP  \\\n",
       "country_name   TIME_PERIOD                                                    \n",
       "Austria        2011                 NaN             NaN                 NaN   \n",
       "               2012                 NaN             NaN                 NaN   \n",
       "               2013                 NaN             NaN                 NaN   \n",
       "               2014                 NaN             NaN                 NaN   \n",
       "               2015                 NaN             NaN                 NaN   \n",
       "...                                 ...             ...                 ...   \n",
       "United Kingdom 2015        6,032,359.00    3,957,038.46        8,834,191.90   \n",
       "               2016        5,330,003.00    7,634,222.77        7,640,446.07   \n",
       "               2017        5,484,053.00    8,119,198.28        7,924,548.08   \n",
       "               2018        4,492,460.00    8,460,127.02        8,522,905.02   \n",
       "               2019        6,056,984.00    8,221,924.85        8,098,218.08   \n",
       "\n",
       "                            Predicted_test_ANN  \n",
       "country_name   TIME_PERIOD                      \n",
       "Austria        2011                        NaN  \n",
       "               2012                        NaN  \n",
       "               2013                        NaN  \n",
       "               2014                        NaN  \n",
       "               2015                        NaN  \n",
       "...                                        ...  \n",
       "United Kingdom 2015              12,942,208.00  \n",
       "               2016               9,585,179.00  \n",
       "               2017               9,860,011.00  \n",
       "               2018              10,684,299.00  \n",
       "               2019              10,033,209.00  \n",
       "\n",
       "[288 rows x 8 columns]"
      ]
     },
     "execution_count": 65,
     "metadata": {},
     "output_type": "execute_result"
    }
   ],
   "source": [
    "df_test = pd.DataFrame({'Actual_test': y_test, 'Predicted_test': y_pred_test, 'Predicted_test_MLP': y_pred_test_MLP, 'Predicted_test_ANN': res_test_ANN})\n",
    "df_train = pd.DataFrame({'Actual_train': y_train, 'Predicted_train': y_pred_train, 'Predicted_train_MLP': y_pred_train_MLP, 'Predicted_train_ANN': res_train_ANN})\n",
    "df_res = df_train.join(df_test, how='outer')\n",
    "df_res"
   ]
  },
  {
   "cell_type": "code",
   "execution_count": 66,
   "metadata": {},
   "outputs": [
    {
     "data": {
      "image/png": "[encoded data removed]",
      "text/plain": [
       "<Figure size 640x480 with 1 Axes>"
      ]
     },
     "metadata": {},
     "output_type": "display_data"
    }
   ],
   "source": [
    "df_res[['Actual_test', 'Predicted_test', 'Predicted_test_MLP', 'Predicted_test_ANN', ]].plot()\n",
    "plt.xticks(rotation=45)\n",
    "plt.show()"
   ]
  },
  {
   "cell_type": "code",
   "execution_count": 67,
   "metadata": {},
   "outputs": [
    {
     "data": {
      "image/png": "[encoded data removed]",
      "text/plain": [
       "<Figure size 800x800 with 1 Axes>"
      ]
     },
     "metadata": {},
     "output_type": "display_data"
    }
   ],
   "source": [
    "sns.pairplot(df_test, x_vars=['Actual_test'], y_vars='Predicted_test_ANN',  kind='reg', height = 8)\n",
    "plt.show()"
   ]
  },
  {
   "attachments": {},
   "cell_type": "markdown",
   "metadata": {},
   "source": [
    "In my project, I observed that the Artificial Neural Network (ANN) produced superior results compared to other models. The ANN demonstrated higher accuracy and better performance in forecasting Fungicides and bactericides sales.\n",
    "\n",
    "The success of the ANN can be attributed to its ability to capture complex non-linear relationships within the data, which proved beneficial in this scenario where the dependence between variables was non-linear. This allowed the ANN to make more accurate predictions and outperform other models.\n",
    "\n",
    "By leveraging the power of neural networks, I was able to enhance the forecasting capabilities of my project and achieve more reliable and precise predictions for agricultural sales data. The improved results of the ANN reaffirmed its effectiveness in handling complex data patterns and underlined its value in the field of agricultural prognostication."
   ]
  },
  {
   "cell_type": "markdown",
   "metadata": {},
   "source": [
    "## Conclusions\n"
   ]
  },
  {
   "attachments": {},
   "cell_type": "markdown",
   "metadata": {},
   "source": [
    "In this lab work, I learned how to build hypotheses for forecasting models. I transformed DataSets for input-output models and divided them into training and test sets. Additionally, I normalized the data to prepare it for model training.\n",
    "\n",
    "I successfully created, fitted, and tested both Linear Regression and Neural Network models. These models allowed me to make predictions and assess their performance on unseen test data. Through hands-on experience, I gained valuable insights into the strengths and limitations of each model, enabling me to make informed decisions when choosing the appropriate approach for specific forecasting tasks.\n",
    "\n",
    "Overall, this lab work equipped me with valuable skills and techniques for data-driven forecasting in the agricultural domain, enabling me to make more accurate predictions for future agricultural sales."
   ]
  },
  {
   "attachments": {},
   "cell_type": "markdown",
   "metadata": {},
   "source": [
    "## Guided Project Mentor\n"
   ]
  },
  {
   "attachments": {},
   "cell_type": "markdown",
   "metadata": {},
   "source": [
    "Yaroslav Vyklyuk, prof., PhD., DrSc\n"
   ]
  },
  {
   "attachments": {},
   "cell_type": "markdown",
   "metadata": {},
   "source": [
    "## Author of this version\n"
   ]
  },
  {
   "attachments": {},
   "cell_type": "markdown",
   "metadata": {},
   "source": [
    "Abdullah Amal Khan, PES University South Campus"
   ]
  },
  {
   "attachments": {},
   "cell_type": "markdown",
   "metadata": {},
   "source": [
    "__________________"
   ]
  },
  {
   "cell_type": "markdown",
   "metadata": {},
   "source": [
    "Made possible by [cognitiveclass.ai](https://cognitiveclass.ai/courses/course-v1:IBM+GPXX04P5EN+v1)\n",
    "\n",
    " Copyright &copy; 2020 IBM Corporation. This notebook and its source code are released under the terms of the [MIT License](https://cognitiveclass.ai/mit-license/?utm_medium=Exinfluencer&utm_source=Exinfluencer&utm_content=000026UJ&utm_term=10006555&utm_id=NA-SkillsNetwork-Channel-SkillsNetworkGuidedProjectsdatascienceinagricultureprognosticationusingbyneuralnetwork466-2022-01-01).\n"
   ]
  },
  {
   "attachments": {},
   "cell_type": "markdown",
   "metadata": {},
   "source": [
    "__________________"
   ]
  }
 ],
 "metadata": {
  "kernelspec": {
   "display_name": "Python",
   "language": "python",
   "name": "conda-env-python-py"
  },
  "language_info": {
   "codemirror_mode": {
    "name": "ipython",
    "version": 3
   },
   "file_extension": ".py",
   "mimetype": "text/x-python",
   "name": "python",
   "nbconvert_exporter": "python",
   "pygments_lexer": "ipython3",
   "version": "3.7.12"
  }
 },
 "nbformat": 4,
 "nbformat_minor": 4
}
